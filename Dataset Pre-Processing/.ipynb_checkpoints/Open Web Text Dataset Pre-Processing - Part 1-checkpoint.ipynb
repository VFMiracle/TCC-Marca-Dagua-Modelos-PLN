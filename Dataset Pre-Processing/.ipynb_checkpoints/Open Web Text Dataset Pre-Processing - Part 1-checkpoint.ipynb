{
 "cells": [
  {
   "cell_type": "code",
   "execution_count": 1,
   "id": "5a42b3fe-e75b-4820-b239-4ef7d0f10c8f",
   "metadata": {},
   "outputs": [],
   "source": [
    "file_index = 0\n",
    "line_index = 0\n",
    "line_limit_per_file = 2000000\n",
    "base_file_name = \"open_web_text_dataset_file\"\n",
    "dataset_folder_path = 'open_web_text_lines_files\\\\'"
   ]
  },
  {
   "cell_type": "code",
   "execution_count": 2,
   "id": "fe714b6f-9195-483e-a6a8-e9ce8d501d0a",
   "metadata": {},
   "outputs": [],
   "source": [
    "from datasets import load_dataset\n",
    "from tqdm.auto import tqdm"
   ]
  },
  {
   "cell_type": "code",
   "execution_count": 3,
   "id": "5aa59ea5-4949-4dd5-9aea-72bf1bf3f642",
   "metadata": {},
   "outputs": [
    {
     "name": "stderr",
     "output_type": "stream",
     "text": [
      "C:\\Users\\Vande\\AppData\\Local\\Programs\\Python\\Python311\\Lib\\site-packages\\datasets\\load.py:1486: FutureWarning: The repository for Skylion007/openwebtext contains custom code which must be executed to correctly load the dataset. You can inspect the repository content at https://hf.co/datasets/Skylion007/openwebtext\n",
      "You can avoid this message in future by passing the argument `trust_remote_code=True`.\n",
      "Passing `trust_remote_code=True` will be mandatory to load this dataset from the next major release of `datasets`.\n",
      "  warnings.warn(\n"
     ]
    },
    {
     "data": {
      "application/vnd.jupyter.widget-view+json": {
       "model_id": "cd4f4e58a94649e7bb5fd75972aae293",
       "version_major": 2,
       "version_minor": 0
      },
      "text/plain": [
       "Loading dataset shards:   0%|          | 0/80 [00:00<?, ?it/s]"
      ]
     },
     "metadata": {},
     "output_type": "display_data"
    }
   ],
   "source": [
    "open_web_text_dataset = load_dataset(\"Skylion007/openwebtext\")"
   ]
  },
  {
   "cell_type": "code",
   "execution_count": 4,
   "id": "8c061019-6b17-4960-9c1b-121c5867ac55",
   "metadata": {},
   "outputs": [],
   "source": [
    "#The filtering process simply consists of removing empty lines from each Dataset entry.\n",
    "\n",
    "def get_filtered_lines(dataset_entry):\n",
    "    return [line for line in dataset_entry.split(\"\\n\") if len(line) > 0]"
   ]
  },
  {
   "cell_type": "code",
   "execution_count": 5,
   "id": "cd3564e5-180a-40c7-b533-b042d4441095",
   "metadata": {},
   "outputs": [],
   "source": [
    "def write_lines_to_file(lines, base_file_name, file_index = 0, line_index = 0, line_limit_per_file=160000):\n",
    "    file = open(base_file_name + str(file_index) + \".txt\", \"a\", encoding='utf-8')\n",
    "    for line in lines:\n",
    "        file.write(line)\n",
    "        file.write(\"\\n\")\n",
    "        line_index += 1\n",
    "        if(line_index >= line_limit_per_file):\n",
    "            line_index = 0\n",
    "            file.close()\n",
    "            file_index += 1\n",
    "            file = open(base_file_name + str(file_index) + \".txt\", \"a\", encoding='utf-8')\n",
    "    file.close()\n",
    "    return line_index, file_index"
   ]
  },
  {
   "cell_type": "code",
   "execution_count": 7,
   "id": "aab40214-fb3e-4663-98fa-6b57b1782a9c",
   "metadata": {},
   "outputs": [
    {
     "data": {
      "application/vnd.jupyter.widget-view+json": {
       "model_id": "d200f109637b4bd68a0c38345baf1d21",
       "version_major": 2,
       "version_minor": 0
      },
      "text/plain": [
       "  0%|          | 0/8013769 [00:00<?, ?it/s]"
      ]
     },
     "metadata": {},
     "output_type": "display_data"
    }
   ],
   "source": [
    "max_dataset_index = len(open_web_text_dataset['train'])\n",
    "progress_bar = tqdm(range(max_dataset_index))"
   ]
  },
  {
   "cell_type": "code",
   "execution_count": 8,
   "id": "6a1bd15d-3ab0-4b6d-aab6-db623d8c8b69",
   "metadata": {},
   "outputs": [
    {
     "ename": "KeyboardInterrupt",
     "evalue": "",
     "output_type": "error",
     "traceback": [
      "\u001b[1;31m---------------------------------------------------------------------------\u001b[0m",
      "\u001b[1;31mKeyboardInterrupt\u001b[0m                         Traceback (most recent call last)",
      "Cell \u001b[1;32mIn[8], line 2\u001b[0m\n\u001b[0;32m      1\u001b[0m \u001b[38;5;28;01mfor\u001b[39;00m dataset_index \u001b[38;5;129;01min\u001b[39;00m \u001b[38;5;28mrange\u001b[39m(\u001b[38;5;241m0\u001b[39m, max_dataset_index):\n\u001b[1;32m----> 2\u001b[0m     line_index, file_index \u001b[38;5;241m=\u001b[39m \u001b[43mwrite_lines_to_file\u001b[49m\u001b[43m(\u001b[49m\n\u001b[0;32m      3\u001b[0m \u001b[43m        \u001b[49m\u001b[43mget_filtered_lines\u001b[49m\u001b[43m(\u001b[49m\u001b[43mopen_web_text_dataset\u001b[49m\u001b[43m[\u001b[49m\u001b[38;5;124;43m'\u001b[39;49m\u001b[38;5;124;43mtrain\u001b[39;49m\u001b[38;5;124;43m'\u001b[39;49m\u001b[43m]\u001b[49m\u001b[43m[\u001b[49m\u001b[43mdataset_index\u001b[49m\u001b[43m]\u001b[49m\u001b[43m[\u001b[49m\u001b[38;5;124;43m'\u001b[39;49m\u001b[38;5;124;43mtext\u001b[39;49m\u001b[38;5;124;43m'\u001b[39;49m\u001b[43m]\u001b[49m\u001b[43m)\u001b[49m\u001b[43m,\u001b[49m\n\u001b[0;32m      4\u001b[0m \u001b[43m        \u001b[49m\u001b[43mdataset_folder_path\u001b[49m\u001b[43m \u001b[49m\u001b[38;5;241;43m+\u001b[39;49m\u001b[43m \u001b[49m\u001b[43mbase_file_name\u001b[49m\u001b[43m,\u001b[49m\n\u001b[0;32m      5\u001b[0m \u001b[43m        \u001b[49m\u001b[43mfile_index\u001b[49m\u001b[43m \u001b[49m\u001b[38;5;241;43m=\u001b[39;49m\u001b[43m \u001b[49m\u001b[43mfile_index\u001b[49m\u001b[43m,\u001b[49m\n\u001b[0;32m      6\u001b[0m \u001b[43m        \u001b[49m\u001b[43mline_index\u001b[49m\u001b[43m \u001b[49m\u001b[38;5;241;43m=\u001b[39;49m\u001b[43m \u001b[49m\u001b[43mline_index\u001b[49m\u001b[43m,\u001b[49m\n\u001b[0;32m      7\u001b[0m \u001b[43m        \u001b[49m\u001b[43mline_limit_per_file\u001b[49m\u001b[43m \u001b[49m\u001b[38;5;241;43m=\u001b[39;49m\u001b[43m \u001b[49m\u001b[43mline_limit_per_file\u001b[49m\n\u001b[0;32m      8\u001b[0m \u001b[43m    \u001b[49m\u001b[43m)\u001b[49m\n\u001b[0;32m      9\u001b[0m     progress_bar\u001b[38;5;241m.\u001b[39mupdate()\n",
      "Cell \u001b[1;32mIn[5], line 12\u001b[0m, in \u001b[0;36mwrite_lines_to_file\u001b[1;34m(lines, base_file_name, file_index, line_index, line_limit_per_file)\u001b[0m\n\u001b[0;32m     10\u001b[0m         file_index \u001b[38;5;241m+\u001b[39m\u001b[38;5;241m=\u001b[39m \u001b[38;5;241m1\u001b[39m\n\u001b[0;32m     11\u001b[0m         file \u001b[38;5;241m=\u001b[39m \u001b[38;5;28mopen\u001b[39m(base_file_name \u001b[38;5;241m+\u001b[39m \u001b[38;5;28mstr\u001b[39m(file_index) \u001b[38;5;241m+\u001b[39m \u001b[38;5;124m\"\u001b[39m\u001b[38;5;124m.txt\u001b[39m\u001b[38;5;124m\"\u001b[39m, \u001b[38;5;124m\"\u001b[39m\u001b[38;5;124ma\u001b[39m\u001b[38;5;124m\"\u001b[39m, encoding\u001b[38;5;241m=\u001b[39m\u001b[38;5;124m'\u001b[39m\u001b[38;5;124mutf-8\u001b[39m\u001b[38;5;124m'\u001b[39m)\n\u001b[1;32m---> 12\u001b[0m file\u001b[38;5;241m.\u001b[39mclose()\n\u001b[0;32m     13\u001b[0m \u001b[38;5;28;01mreturn\u001b[39;00m line_index, file_index\n",
      "\u001b[1;31mKeyboardInterrupt\u001b[0m: "
     ]
    }
   ],
   "source": [
    "for dataset_index in range(0, max_dataset_index):\n",
    "    line_index, file_index = write_lines_to_file(\n",
    "        get_filtered_lines(open_web_text_dataset['train'][dataset_index]['text']),\n",
    "        dataset_folder_path + base_file_name,\n",
    "        file_index = file_index,\n",
    "        line_index = line_index,\n",
    "        line_limit_per_file = line_limit_per_file\n",
    "    )\n",
    "    progress_bar.update()"
   ]
  }
 ],
 "metadata": {
  "kernelspec": {
   "display_name": "Python 3 (ipykernel)",
   "language": "python",
   "name": "python3"
  },
  "language_info": {
   "codemirror_mode": {
    "name": "ipython",
    "version": 3
   },
   "file_extension": ".py",
   "mimetype": "text/x-python",
   "name": "python",
   "nbconvert_exporter": "python",
   "pygments_lexer": "ipython3",
   "version": "3.11.9"
  }
 },
 "nbformat": 4,
 "nbformat_minor": 5
}
