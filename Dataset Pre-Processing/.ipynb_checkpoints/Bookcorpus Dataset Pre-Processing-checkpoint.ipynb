{
 "cells": [
  {
   "cell_type": "code",
   "execution_count": 1,
   "id": "1280d62e-da11-4659-abaf-3bb614872897",
   "metadata": {},
   "outputs": [],
   "source": [
    "#Definição das Variáveis Básicas do Script\n",
    "\n",
    "dataset_folder_path = \"..\\\\custom_datasets\\\\bookcorpus_lines_dataset\""
   ]
  },
  {
   "cell_type": "code",
   "execution_count": 2,
   "id": "68c9fa96-f49f-4bb2-902a-b2e1f7e54de8",
   "metadata": {},
   "outputs": [],
   "source": [
    "from datasets import Dataset, DatasetDict, load_dataset"
   ]
  },
  {
   "cell_type": "code",
   "execution_count": 3,
   "id": "40f33bbe-ee89-4fb2-960a-216958d944da",
   "metadata": {},
   "outputs": [
    {
     "name": "stderr",
     "output_type": "stream",
     "text": [
      "C:\\Users\\Vande\\AppData\\Local\\Programs\\Python\\Python311\\Lib\\site-packages\\datasets\\load.py:1486: FutureWarning: The repository for bookcorpus/bookcorpus contains custom code which must be executed to correctly load the dataset. You can inspect the repository content at https://hf.co/datasets/bookcorpus/bookcorpus\n",
      "You can avoid this message in future by passing the argument `trust_remote_code=True`.\n",
      "Passing `trust_remote_code=True` will be mandatory to load this dataset from the next major release of `datasets`.\n",
      "  warnings.warn(\n"
     ]
    }
   ],
   "source": [
    "original_dataset = load_dataset('bookcorpus/bookcorpus')"
   ]
  },
  {
   "cell_type": "code",
   "execution_count": 4,
   "id": "65a0aefe-f3e2-4b90-8a2d-17b236ed180e",
   "metadata": {},
   "outputs": [],
   "source": [
    "def segment_dataset(start_index, end_index):\n",
    "    for index in range(start_index, end_index):\n",
    "        yield {\"idx\": index - start_index, \"text\": original_dataset['train'][index]['text']}"
   ]
  },
  {
   "cell_type": "code",
   "execution_count": 5,
   "id": "e4d87100-3b2a-474f-9259-3eeed3b62052",
   "metadata": {},
   "outputs": [],
   "source": [
    "def build_bookcorpus_dataset_dict():\n",
    "    return DatasetDict({\n",
    "        \"train\": Dataset.from_generator(segment_dataset, gen_kwargs={\"start_index\": 0, \"end_index\": 64136700}),\n",
    "        \"validation\": Dataset.from_generator(segment_dataset, gen_kwargs={\"start_index\": 64136700, \"end_index\": 66603508}),\n",
    "        \"test\": Dataset.from_generator(segment_dataset, gen_kwargs={\"start_index\": 66603508, \"end_index\": 74004228}),\n",
    "    })"
   ]
  },
  {
   "cell_type": "code",
   "execution_count": 6,
   "id": "ddc6af28-7563-4eaf-9ff1-4a2bfc7196ae",
   "metadata": {},
   "outputs": [],
   "source": [
    "bookcorpus_dataset_dict = build_bookcorpus_dataset_dict()"
   ]
  },
  {
   "cell_type": "code",
   "execution_count": 7,
   "id": "7b6bffb4-a6c1-474a-a9ce-a74e369e1372",
   "metadata": {},
   "outputs": [
    {
     "data": {
      "application/vnd.jupyter.widget-view+json": {
       "model_id": "0e91823b41ec4b1ca0c5dc8846409eff",
       "version_major": 2,
       "version_minor": 0
      },
      "text/plain": [
       "Saving the dataset (0/10 shards):   0%|          | 0/64136700 [00:00<?, ? examples/s]"
      ]
     },
     "metadata": {},
     "output_type": "display_data"
    },
    {
     "data": {
      "application/vnd.jupyter.widget-view+json": {
       "model_id": "90065bf92f2b4069abdffd76a1dd4d32",
       "version_major": 2,
       "version_minor": 0
      },
      "text/plain": [
       "Saving the dataset (0/1 shards):   0%|          | 0/2466808 [00:00<?, ? examples/s]"
      ]
     },
     "metadata": {},
     "output_type": "display_data"
    },
    {
     "data": {
      "application/vnd.jupyter.widget-view+json": {
       "model_id": "03b67a2a5a70402495d683086e731952",
       "version_major": 2,
       "version_minor": 0
      },
      "text/plain": [
       "Saving the dataset (0/2 shards):   0%|          | 0/7400720 [00:00<?, ? examples/s]"
      ]
     },
     "metadata": {},
     "output_type": "display_data"
    }
   ],
   "source": [
    "bookcorpus_dataset_dict.save_to_disk(dataset_folder_path)"
   ]
  }
 ],
 "metadata": {
  "kernelspec": {
   "display_name": "Python 3 (ipykernel)",
   "language": "python",
   "name": "python3"
  },
  "language_info": {
   "codemirror_mode": {
    "name": "ipython",
    "version": 3
   },
   "file_extension": ".py",
   "mimetype": "text/x-python",
   "name": "python",
   "nbconvert_exporter": "python",
   "pygments_lexer": "ipython3",
   "version": "3.11.9"
  }
 },
 "nbformat": 4,
 "nbformat_minor": 5
}
