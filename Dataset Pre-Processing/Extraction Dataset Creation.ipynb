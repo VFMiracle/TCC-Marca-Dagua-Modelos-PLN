{
 "cells": [
  {
   "cell_type": "code",
   "execution_count": null,
   "id": "78872924-9683-40d4-9b49-e1cde0fea3a0",
   "metadata": {},
   "outputs": [],
   "source": [
    "extraction_dataset_max_length = 3200000\n",
    "bert_model_path = \"..\\\\custom_models\\\\bert_model\"\n",
    "extraction_dataset_path = \"..\\\\custom_datasets\\\\extraction_dataset\"\n",
    "open_web_text_dataset_path = \"..\\\\custom_datasets\\\\open_web_text_dataset\""
   ]
  },
  {
   "cell_type": "code",
   "execution_count": 1,
   "id": "f64a0783-bb25-4967-8a47-692255005a36",
   "metadata": {},
   "outputs": [],
   "source": [
    "import os\n",
    "import sys\n",
    "sys.path.append(os.path.realpath(\"../\"))"
   ]
  },
  {
   "cell_type": "code",
   "execution_count": 2,
   "id": "41746d21-b59f-442c-b353-956fd12cb324",
   "metadata": {},
   "outputs": [],
   "source": [
    "import gc\n",
    "import torch\n",
    "from datasets import load_from_disk, Dataset, DatasetDict\n",
    "from torch.utils.data import DataLoader\n",
    "from tqdm.auto import tqdm\n",
    "from transformers import BertForPreTraining, DefaultDataCollator\n",
    "from TokenizedBERTDatasetModule import TokenizedBERTDataset"
   ]
  },
  {
   "cell_type": "code",
   "execution_count": 3,
   "id": "0e1d623b-d151-4b95-95c8-9acc5bb2fb42",
   "metadata": {},
   "outputs": [],
   "source": [
    "device = torch.device(\"cuda\") if torch.cuda.is_available else torch.device(\"cpu\")"
   ]
  },
  {
   "cell_type": "code",
   "execution_count": null,
   "id": "83625e01-e95b-423f-970e-fd7ddc5fb29e",
   "metadata": {},
   "outputs": [],
   "source": [
    "open_web_text_dataset = load_from_disk(open_web_text_dataset_path)"
   ]
  },
  {
   "cell_type": "code",
   "execution_count": 5,
   "id": "3890d8c0-94fa-4258-a9b2-ec07e8e77b8e",
   "metadata": {},
   "outputs": [
    {
     "name": "stderr",
     "output_type": "stream",
     "text": [
      "C:\\Users\\Vande\\AppData\\Local\\Programs\\Python\\Python311\\Lib\\site-packages\\huggingface_hub\\file_download.py:795: FutureWarning: `resume_download` is deprecated and will be removed in version 1.0.0. Downloads always resume when possible. If you want to force a new download, use `force_download=True`.\n",
      "  warnings.warn(\n"
     ]
    }
   ],
   "source": [
    "data_loader = DataLoader(\n",
    "    TokenizedBERTDataset([open_web_text_dataset['train']], truncate_resulting_item_flag=True, include_idx_flag=True), batch_size=1,\n",
    "    collate_fn=DefaultDataCollator(), shuffle=True, pin_memory=True, pin_memory_device=\"cuda:0\"\n",
    ")"
   ]
  },
  {
   "cell_type": "code",
   "execution_count": 6,
   "id": "6002d612-d1ca-4437-abc5-f0b04d982aa1",
   "metadata": {
    "scrolled": true
   },
   "outputs": [
    {
     "data": {
      "text/plain": [
       "BertForPreTraining(\n",
       "  (bert): BertModel(\n",
       "    (embeddings): BertEmbeddings(\n",
       "      (word_embeddings): Embedding(28996, 768, padding_idx=0)\n",
       "      (position_embeddings): Embedding(512, 768)\n",
       "      (token_type_embeddings): Embedding(2, 768)\n",
       "      (LayerNorm): LayerNorm((768,), eps=1e-12, elementwise_affine=True)\n",
       "      (dropout): Dropout(p=0.1, inplace=False)\n",
       "    )\n",
       "    (encoder): BertEncoder(\n",
       "      (layer): ModuleList(\n",
       "        (0-11): 12 x BertLayer(\n",
       "          (attention): BertAttention(\n",
       "            (self): BertSelfAttention(\n",
       "              (query): Linear(in_features=768, out_features=768, bias=True)\n",
       "              (key): Linear(in_features=768, out_features=768, bias=True)\n",
       "              (value): Linear(in_features=768, out_features=768, bias=True)\n",
       "              (dropout): Dropout(p=0.1, inplace=False)\n",
       "            )\n",
       "            (output): BertSelfOutput(\n",
       "              (dense): Linear(in_features=768, out_features=768, bias=True)\n",
       "              (LayerNorm): LayerNorm((768,), eps=1e-12, elementwise_affine=True)\n",
       "              (dropout): Dropout(p=0.1, inplace=False)\n",
       "            )\n",
       "          )\n",
       "          (intermediate): BertIntermediate(\n",
       "            (dense): Linear(in_features=768, out_features=3072, bias=True)\n",
       "            (intermediate_act_fn): GELUActivation()\n",
       "          )\n",
       "          (output): BertOutput(\n",
       "            (dense): Linear(in_features=3072, out_features=768, bias=True)\n",
       "            (LayerNorm): LayerNorm((768,), eps=1e-12, elementwise_affine=True)\n",
       "            (dropout): Dropout(p=0.1, inplace=False)\n",
       "          )\n",
       "        )\n",
       "      )\n",
       "    )\n",
       "    (pooler): BertPooler(\n",
       "      (dense): Linear(in_features=768, out_features=768, bias=True)\n",
       "      (activation): Tanh()\n",
       "    )\n",
       "  )\n",
       "  (cls): BertPreTrainingHeads(\n",
       "    (predictions): BertLMPredictionHead(\n",
       "      (transform): BertPredictionHeadTransform(\n",
       "        (dense): Linear(in_features=768, out_features=768, bias=True)\n",
       "        (transform_act_fn): GELUActivation()\n",
       "        (LayerNorm): LayerNorm((768,), eps=1e-12, elementwise_affine=True)\n",
       "      )\n",
       "      (decoder): Linear(in_features=768, out_features=28996, bias=True)\n",
       "    )\n",
       "    (seq_relationship): Linear(in_features=768, out_features=2, bias=True)\n",
       "  )\n",
       ")"
      ]
     },
     "execution_count": 6,
     "metadata": {},
     "output_type": "execute_result"
    }
   ],
   "source": [
    "bert_model = BertForPreTraining.from_pretrained(bert_model_path)\n",
    "bert_model.to(device)\n",
    "bert_model.eval()"
   ]
  },
  {
   "cell_type": "code",
   "execution_count": 7,
   "id": "2ff675b4-72e3-449d-aea8-b332db47d832",
   "metadata": {},
   "outputs": [],
   "source": [
    "def build_processed_labels(batch, predictions):\n",
    "    processed_labels = [(batch['labels'][0][i] if batch['labels'][0][i] == -100 else predictions[0][i]).item() for i in range(len(predictions[0]))]\n",
    "    processed_labels = torch.tensor(processed_labels, dtype=torch.long).to(device)\n",
    "    return processed_labels"
   ]
  },
  {
   "cell_type": "code",
   "execution_count": 8,
   "id": "ae291bd2-5682-400e-b9a6-18bccd7338d0",
   "metadata": {},
   "outputs": [],
   "source": [
    "def extraction_dataset_gen(dataset_name, max_length=0):\n",
    "    print(dataset_name + \": \")\n",
    "    progress_bar = tqdm(range(len(data_loader) if max_length <= 0 else max_length))\n",
    "    \n",
    "    index = 0\n",
    "    for batch in data_loader:\n",
    "        batch = {k: v.to(device) for k, v in batch.items()}\n",
    "        idx = batch['idx']\n",
    "        del batch['idx']\n",
    "        outputs = bert_model(**batch)\n",
    "        predictions = torch.argmax(outputs.prediction_logits, dim=-1)\n",
    "        extracted_batch = {\n",
    "            'idx': idx[0],\n",
    "            'input_ids': batch['input_ids'][0],\n",
    "            'token_type_ids': batch['token_type_ids'][0],\n",
    "            'attention_mask': batch['attention_mask'][0],\n",
    "            'labels': build_processed_labels(batch, predictions),\n",
    "            'next_sentence_label': torch.argmax(outputs.seq_relationship_logits, dim=-1)[0]\n",
    "        }\n",
    "        yield extracted_batch\n",
    "\n",
    "        #   Descomente as linhas abaixo somente se estiver tendo problemas de consumo de memória ao executar o script, já que elas aumentam o tempo\n",
    "        #de execução\n",
    "        \n",
    "        # gc.collect()\n",
    "        # torch.cuda.empty_cache()\n",
    "        progress_bar.update()\n",
    "        index += 1\n",
    "        if(max_length > 0 and index >= max_length):\n",
    "            break"
   ]
  },
  {
   "cell_type": "code",
   "execution_count": 9,
   "id": "f52174ec-c724-46c4-8346-68bceaf45670",
   "metadata": {},
   "outputs": [],
   "source": [
    "def build_extraction_dataset_dict():\n",
    "    return DatasetDict({\n",
    "        \"train\": Dataset.from_generator(extraction_dataset_gen, gen_kwargs={\"dataset_name\": \"train\", \"max_length\": extraction_dataset_max_length})\n",
    "    })"
   ]
  },
  {
   "cell_type": "code",
   "execution_count": 10,
   "id": "4f422363-2b1f-4c97-949a-a24e5a0fc986",
   "metadata": {},
   "outputs": [
    {
     "data": {
      "application/vnd.jupyter.widget-view+json": {
       "model_id": "dd5bc892dae946aa874fdc1a353cb595",
       "version_major": 2,
       "version_minor": 0
      },
      "text/plain": [
       "Generating train split: 0 examples [00:00, ? examples/s]"
      ]
     },
     "metadata": {},
     "output_type": "display_data"
    },
    {
     "name": "stdout",
     "output_type": "stream",
     "text": [
      "train: \n"
     ]
    },
    {
     "data": {
      "application/vnd.jupyter.widget-view+json": {
       "model_id": "9c073f62a8d44c78aa78f13f957fde77",
       "version_major": 2,
       "version_minor": 0
      },
      "text/plain": [
       "  0%|          | 0/80000 [00:00<?, ?it/s]"
      ]
     },
     "metadata": {},
     "output_type": "display_data"
    },
    {
     "data": {
      "application/vnd.jupyter.widget-view+json": {
       "model_id": "ed24780f9c55400cb0cccb9a4a8346be",
       "version_major": 2,
       "version_minor": 0
      },
      "text/plain": [
       "Generating train split: 0 examples [00:00, ? examples/s]"
      ]
     },
     "metadata": {},
     "output_type": "display_data"
    },
    {
     "name": "stdout",
     "output_type": "stream",
     "text": [
      "validation: \n"
     ]
    },
    {
     "data": {
      "application/vnd.jupyter.widget-view+json": {
       "model_id": "f46574bdab564119b76559d78281f2dc",
       "version_major": 2,
       "version_minor": 0
      },
      "text/plain": [
       "  0%|          | 0/20000 [00:00<?, ?it/s]"
      ]
     },
     "metadata": {},
     "output_type": "display_data"
    },
    {
     "data": {
      "application/vnd.jupyter.widget-view+json": {
       "model_id": "322c5b66835d412eb08984a99453f8aa",
       "version_major": 2,
       "version_minor": 0
      },
      "text/plain": [
       "Generating train split: 0 examples [00:00, ? examples/s]"
      ]
     },
     "metadata": {},
     "output_type": "display_data"
    },
    {
     "name": "stdout",
     "output_type": "stream",
     "text": [
      "test: \n"
     ]
    },
    {
     "data": {
      "application/vnd.jupyter.widget-view+json": {
       "model_id": "f21ff6c3ac3b4fe68c1c92577e7494a6",
       "version_major": 2,
       "version_minor": 0
      },
      "text/plain": [
       "  0%|          | 0/40000 [00:00<?, ?it/s]"
      ]
     },
     "metadata": {},
     "output_type": "display_data"
    }
   ],
   "source": [
    "extraction_dataset = build_extraction_dataset_dict()"
   ]
  },
  {
   "cell_type": "code",
   "execution_count": 11,
   "id": "25651704-d4e1-4412-954a-d17beedb01e4",
   "metadata": {},
   "outputs": [
    {
     "data": {
      "application/vnd.jupyter.widget-view+json": {
       "model_id": "ac593b09696b4626a57f6f9bc2551b1f",
       "version_major": 2,
       "version_minor": 0
      },
      "text/plain": [
       "Saving the dataset (0/2 shards):   0%|          | 0/80000 [00:00<?, ? examples/s]"
      ]
     },
     "metadata": {},
     "output_type": "display_data"
    },
    {
     "data": {
      "application/vnd.jupyter.widget-view+json": {
       "model_id": "61f2b766b40c45d48d5b7feeb8ba0f7b",
       "version_major": 2,
       "version_minor": 0
      },
      "text/plain": [
       "Saving the dataset (0/1 shards):   0%|          | 0/20000 [00:00<?, ? examples/s]"
      ]
     },
     "metadata": {},
     "output_type": "display_data"
    },
    {
     "data": {
      "application/vnd.jupyter.widget-view+json": {
       "model_id": "ebb5d96d97fa483b80a638d87d01f42e",
       "version_major": 2,
       "version_minor": 0
      },
      "text/plain": [
       "Saving the dataset (0/1 shards):   0%|          | 0/40000 [00:00<?, ? examples/s]"
      ]
     },
     "metadata": {},
     "output_type": "display_data"
    }
   ],
   "source": [
    "extraction_dataset.save_to_disk(extraction_dataset_path)"
   ]
  }
 ],
 "metadata": {
  "kernelspec": {
   "display_name": "Python 3 (ipykernel)",
   "language": "python",
   "name": "python3"
  },
  "language_info": {
   "codemirror_mode": {
    "name": "ipython",
    "version": 3
   },
   "file_extension": ".py",
   "mimetype": "text/x-python",
   "name": "python",
   "nbconvert_exporter": "python",
   "pygments_lexer": "ipython3",
   "version": "3.11.9"
  }
 },
 "nbformat": 4,
 "nbformat_minor": 5
}
