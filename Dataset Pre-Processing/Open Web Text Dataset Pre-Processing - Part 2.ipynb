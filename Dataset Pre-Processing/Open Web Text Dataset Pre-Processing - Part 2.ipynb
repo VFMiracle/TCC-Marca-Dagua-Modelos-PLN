{
 "cells": [
  {
   "cell_type": "code",
   "execution_count": 1,
   "id": "5b9b2748-9b0a-4809-88ab-33fe95a10c37",
   "metadata": {},
   "outputs": [],
   "source": [
    "base_file_path = \"open_web_text_lines_files\\\\open_web_text_dataset_file\"\n",
    "checkpoint = 'bert-base-cased'\n",
    "dataset_folder_path = \"..\\\\custom_datasets\\\\open_web_text_dataset\""
   ]
  },
  {
   "cell_type": "code",
   "execution_count": 2,
   "id": "aa5eb722-e3fa-48f9-8f95-8fde5f1b8b0f",
   "metadata": {},
   "outputs": [],
   "source": [
    "from datasets import Dataset, DatasetDict\n",
    "from tqdm.auto import tqdm\n",
    "from transformers import AutoTokenizer"
   ]
  },
  {
   "cell_type": "code",
   "execution_count": 3,
   "id": "8b473c44-3c57-4d5a-a094-387e10cb0535",
   "metadata": {},
   "outputs": [
    {
     "name": "stderr",
     "output_type": "stream",
     "text": [
      "C:\\Users\\Vande\\AppData\\Local\\Programs\\Python\\Python311\\Lib\\site-packages\\huggingface_hub\\file_download.py:795: FutureWarning: `resume_download` is deprecated and will be removed in version 1.0.0. Downloads always resume when possible. If you want to force a new download, use `force_download=True`.\n",
      "  warnings.warn(\n"
     ]
    }
   ],
   "source": [
    "tokenizer = AutoTokenizer.from_pretrained(checkpoint)"
   ]
  },
  {
   "cell_type": "code",
   "execution_count": 4,
   "id": "cf767c03-3817-4816-8356-3da6f264abe5",
   "metadata": {},
   "outputs": [],
   "source": [
    "def open_web_text_dataset_gen(shards, dataset_name):\n",
    "    progress_bar = tqdm(range(len(shards)))\n",
    "    idx = 0\n",
    "    for shard in shards:\n",
    "        with open(shard, \"r\", encoding=\"utf-8\") as file:\n",
    "            for text in file:\n",
    "                yield {\"idx\": idx, \"text\": tokenizer(text[0:-1], max_length = 512, truncation = True)['input_ids'][1:-1]}\n",
    "                idx += 1\n",
    "            progress_bar.update()"
   ]
  },
  {
   "cell_type": "code",
   "execution_count": 5,
   "id": "b11cb49c-108d-4194-8bb6-f5d031d68c13",
   "metadata": {},
   "outputs": [],
   "source": [
    "def build_open_web_text_dataset_dict():\n",
    "    train_shards = [base_file_path + str(i) + \".txt\" for i in range(84)]\n",
    "    return DatasetDict({\n",
    "        \"train\": Dataset.from_generator(open_web_text_dataset_gen, gen_kwargs={\"shards\": train_shards, \"dataset_name\": \"train\"})\n",
    "    })"
   ]
  },
  {
   "cell_type": "code",
   "execution_count": 6,
   "id": "5b4fbd27-0b76-44e3-966e-64d9451a85f2",
   "metadata": {},
   "outputs": [
    {
     "data": {
      "application/vnd.jupyter.widget-view+json": {
       "model_id": "0fa0513d12a746a09791a7232bd1c61c",
       "version_major": 2,
       "version_minor": 0
      },
      "text/plain": [
       "Generating train split: 0 examples [00:00, ? examples/s]"
      ]
     },
     "metadata": {},
     "output_type": "display_data"
    },
    {
     "data": {
      "application/vnd.jupyter.widget-view+json": {
       "model_id": "a372ce6c12b24c168d943f6e990dcd5b",
       "version_major": 2,
       "version_minor": 0
      },
      "text/plain": [
       "  0%|          | 0/84 [00:00<?, ?it/s]"
      ]
     },
     "metadata": {},
     "output_type": "display_data"
    },
    {
     "data": {
      "application/vnd.jupyter.widget-view+json": {
       "model_id": "7026a87af1904e2a810fe26053b3bb68",
       "version_major": 2,
       "version_minor": 0
      },
      "text/plain": [
       "Loading dataset shards:   0%|          | 0/143 [00:00<?, ?it/s]"
      ]
     },
     "metadata": {},
     "output_type": "display_data"
    }
   ],
   "source": [
    "open_web_text_dataset_dict = build_open_web_text_dataset_dict()"
   ]
  },
  {
   "cell_type": "code",
   "execution_count": 7,
   "id": "31327f0e-ce8d-496c-a83b-15a87f378304",
   "metadata": {},
   "outputs": [
    {
     "name": "stdout",
     "output_type": "stream",
     "text": [
      "DatasetDict({\n",
      "    train: Dataset({\n",
      "        features: ['idx', 'text'],\n",
      "        num_rows: 166005717\n",
      "    })\n",
      "})\n"
     ]
    }
   ],
   "source": [
    "print(open_web_text_dataset_dict)"
   ]
  },
  {
   "cell_type": "code",
   "execution_count": 8,
   "id": "fad096b1-9ada-4c65-9018-a899bed3b97d",
   "metadata": {},
   "outputs": [
    {
     "data": {
      "application/vnd.jupyter.widget-view+json": {
       "model_id": "464c5cebc66e469d856a6c0a93155b51",
       "version_major": 2,
       "version_minor": 0
      },
      "text/plain": [
       "Saving the dataset (0/143 shards):   0%|          | 0/166005717 [00:00<?, ? examples/s]"
      ]
     },
     "metadata": {},
     "output_type": "display_data"
    }
   ],
   "source": [
    "open_web_text_dataset_dict.save_to_disk(dataset_folder_path)"
   ]
  }
 ],
 "metadata": {
  "kernelspec": {
   "display_name": "Python 3 (ipykernel)",
   "language": "python",
   "name": "python3"
  },
  "language_info": {
   "codemirror_mode": {
    "name": "ipython",
    "version": 3
   },
   "file_extension": ".py",
   "mimetype": "text/x-python",
   "name": "python",
   "nbconvert_exporter": "python",
   "pygments_lexer": "ipython3",
   "version": "3.11.9"
  }
 },
 "nbformat": 4,
 "nbformat_minor": 5
}
