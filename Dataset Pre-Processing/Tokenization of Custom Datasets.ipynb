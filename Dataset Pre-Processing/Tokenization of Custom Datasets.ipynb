{
 "cells": [
  {
   "cell_type": "code",
   "execution_count": 1,
   "id": "de10ecf1-8b17-4eec-b9b4-655c970182cf",
   "metadata": {},
   "outputs": [],
   "source": [
    "#Definição das Variáveis Básicas do Script\n",
    "\n",
    "default_label_non_masked_token = -100\n",
    "train_max_lines = 100000\n",
    "validation_max_lines = 25000\n",
    "test_max_lines = 50000\n",
    "bookcorpus_dataset_path = '..\\\\custom_datasets\\\\bookcorpus_lines_dataset'\n",
    "wikipedia_dataset_path = '..\\\\custom_datasets\\\\wikipedia_lines_dataset'\n",
    "tokenized_bookcorpus_dataset_path = '..\\\\custom_datasets\\\\tokenized_bookcorpus_lines_dataset'\n",
    "tokenized_wikipedia_dataset_path = '..\\\\custom_datasets\\\\tokenized_wikipedia_lines_dataset'\n",
    "checkpoint = 'bert-base-cased'"
   ]
  },
  {
   "cell_type": "code",
   "execution_count": 2,
   "id": "667b1373-7f95-4a6d-9bc0-213e46705439",
   "metadata": {},
   "outputs": [],
   "source": [
    "import random\n",
    "import torch\n",
    "from datasets import load_from_disk, Dataset, DatasetDict\n",
    "from transformers import AutoTokenizer\n",
    "from tqdm.auto import tqdm"
   ]
  },
  {
   "cell_type": "code",
   "execution_count": 3,
   "id": "e1f814c1-053d-4aea-baaa-2fb38bc71bbe",
   "metadata": {},
   "outputs": [
    {
     "data": {
      "application/vnd.jupyter.widget-view+json": {
       "model_id": "18dcac1a54454d69b7a6eb094dc8afd7",
       "version_major": 2,
       "version_minor": 0
      },
      "text/plain": [
       "Loading dataset from disk:   0%|          | 0/24 [00:00<?, ?it/s]"
      ]
     },
     "metadata": {},
     "output_type": "display_data"
    }
   ],
   "source": [
    "bookcorpus_dataset = load_from_disk(bookcorpus_dataset_path)\n",
    "wikipedia_dataset = load_from_disk(wikipedia_dataset_path)"
   ]
  },
  {
   "cell_type": "code",
   "execution_count": 4,
   "id": "0aa9d01f-68ec-4921-bbc8-5a3b90f2fe25",
   "metadata": {},
   "outputs": [
    {
     "name": "stderr",
     "output_type": "stream",
     "text": [
      "C:\\Users\\Vande\\AppData\\Local\\Programs\\Python\\Python311\\Lib\\site-packages\\huggingface_hub\\file_download.py:795: FutureWarning: `resume_download` is deprecated and will be removed in version 1.0.0. Downloads always resume when possible. If you want to force a new download, use `force_download=True`.\n",
      "  warnings.warn(\n"
     ]
    }
   ],
   "source": [
    "tokenizer = AutoTokenizer.from_pretrained(checkpoint)"
   ]
  },
  {
   "cell_type": "code",
   "execution_count": 5,
   "id": "3e04310d-721b-4377-ba67-7a57baefc222",
   "metadata": {},
   "outputs": [],
   "source": [
    "def tokenized_dataset_generator(dataset, split):\n",
    "    for entry in dataset[split]:\n",
    "        yield {'idx': entry['idx'], 'text': tokenizer(entry['text'])['input_ids'][1:-1]}"
   ]
  },
  {
   "cell_type": "code",
   "execution_count": 7,
   "id": "e1f7d79d-6ed4-4501-8c38-61f0e3783b4c",
   "metadata": {},
   "outputs": [
    {
     "data": {
      "application/vnd.jupyter.widget-view+json": {
       "model_id": "8a38ce1a2b9b490d9104bae4ffa14616",
       "version_major": 2,
       "version_minor": 0
      },
      "text/plain": [
       "Generating train split: 0 examples [00:00, ? examples/s]"
      ]
     },
     "metadata": {},
     "output_type": "display_data"
    },
    {
     "name": "stderr",
     "output_type": "stream",
     "text": [
      "Token indices sequence length is longer than the specified maximum sequence length for this model (1121 > 512). Running this sequence through the model will result in indexing errors\n"
     ]
    },
    {
     "data": {
      "application/vnd.jupyter.widget-view+json": {
       "model_id": "c6743a921ba74799a31e6eb3fce00915",
       "version_major": 2,
       "version_minor": 0
      },
      "text/plain": [
       "Loading dataset shards:   0%|          | 0/18 [00:00<?, ?it/s]"
      ]
     },
     "metadata": {},
     "output_type": "display_data"
    },
    {
     "data": {
      "application/vnd.jupyter.widget-view+json": {
       "model_id": "0b33e462327c408cad21a338df51eff6",
       "version_major": 2,
       "version_minor": 0
      },
      "text/plain": [
       "Generating train split: 0 examples [00:00, ? examples/s]"
      ]
     },
     "metadata": {},
     "output_type": "display_data"
    },
    {
     "data": {
      "application/vnd.jupyter.widget-view+json": {
       "model_id": "104be403fead4f81b7c4b8ae1adc3bfd",
       "version_major": 2,
       "version_minor": 0
      },
      "text/plain": [
       "Generating train split: 0 examples [00:00, ? examples/s]"
      ]
     },
     "metadata": {},
     "output_type": "display_data"
    },
    {
     "data": {
      "application/vnd.jupyter.widget-view+json": {
       "model_id": "4f7dda48856847ebbeb736c51f5b19fe",
       "version_major": 2,
       "version_minor": 0
      },
      "text/plain": [
       "Generating train split: 0 examples [00:00, ? examples/s]"
      ]
     },
     "metadata": {},
     "output_type": "display_data"
    },
    {
     "data": {
      "application/vnd.jupyter.widget-view+json": {
       "model_id": "5570a8762b2a43e698035841171e531c",
       "version_major": 2,
       "version_minor": 0
      },
      "text/plain": [
       "Loading dataset shards:   0%|          | 0/42 [00:00<?, ?it/s]"
      ]
     },
     "metadata": {},
     "output_type": "display_data"
    },
    {
     "data": {
      "application/vnd.jupyter.widget-view+json": {
       "model_id": "486c687f439142c88d69f7c7bacacc9a",
       "version_major": 2,
       "version_minor": 0
      },
      "text/plain": [
       "Generating train split: 0 examples [00:00, ? examples/s]"
      ]
     },
     "metadata": {},
     "output_type": "display_data"
    },
    {
     "data": {
      "application/vnd.jupyter.widget-view+json": {
       "model_id": "a5a76d18f69f4071add1c4cab534dc05",
       "version_major": 2,
       "version_minor": 0
      },
      "text/plain": [
       "Generating train split: 0 examples [00:00, ? examples/s]"
      ]
     },
     "metadata": {},
     "output_type": "display_data"
    }
   ],
   "source": [
    "tokenized_bookcorpus_dataset = DatasetDict({\n",
    "    \"train\": Dataset.from_generator(\n",
    "        tokenized_dataset_generator,\n",
    "        gen_kwargs={\"dataset\": bookcorpus_dataset, \"split\": \"train\"},\n",
    "    ),\n",
    "    \"validation\": Dataset.from_generator(\n",
    "        tokenized_dataset_generator,\n",
    "        gen_kwargs={\"dataset\": bookcorpus_dataset, \"split\": \"validation\"},\n",
    "    ),\n",
    "    \"test\": Dataset.from_generator(\n",
    "        tokenized_dataset_generator,\n",
    "        gen_kwargs={\"dataset\": bookcorpus_dataset, \"split\": \"test\"},\n",
    "    ),\n",
    "})\n",
    "\n",
    "tokenized_wikipedia_dataset = DatasetDict({\n",
    "    \"train\": Dataset.from_generator(\n",
    "        tokenized_dataset_generator,\n",
    "        gen_kwargs={\"dataset\": wikipedia_dataset, \"split\": \"train\"},\n",
    "    ),\n",
    "    \"validation\": Dataset.from_generator(\n",
    "        tokenized_dataset_generator,\n",
    "        gen_kwargs={\"dataset\": wikipedia_dataset, \"split\": \"validation\"},\n",
    "    ),\n",
    "    \"test\": Dataset.from_generator(\n",
    "        tokenized_dataset_generator,\n",
    "        gen_kwargs={\"dataset\": wikipedia_dataset, \"split\": \"test\"},\n",
    "    ),\n",
    "})"
   ]
  },
  {
   "cell_type": "code",
   "execution_count": 8,
   "id": "21d21dd5-648a-4137-8c20-6a2d2909162a",
   "metadata": {},
   "outputs": [
    {
     "data": {
      "application/vnd.jupyter.widget-view+json": {
       "model_id": "c553978bfd844a2391d333a5c04ac662",
       "version_major": 2,
       "version_minor": 0
      },
      "text/plain": [
       "Saving the dataset (0/18 shards):   0%|          | 0/64136700 [00:00<?, ? examples/s]"
      ]
     },
     "metadata": {},
     "output_type": "display_data"
    },
    {
     "data": {
      "application/vnd.jupyter.widget-view+json": {
       "model_id": "c25954fa73434d23ab13f5b27aac4c2c",
       "version_major": 2,
       "version_minor": 0
      },
      "text/plain": [
       "Saving the dataset (0/1 shards):   0%|          | 0/2466808 [00:00<?, ? examples/s]"
      ]
     },
     "metadata": {},
     "output_type": "display_data"
    },
    {
     "data": {
      "application/vnd.jupyter.widget-view+json": {
       "model_id": "ba2ba5283ecb47b7a0cd02e31413734e",
       "version_major": 2,
       "version_minor": 0
      },
      "text/plain": [
       "Saving the dataset (0/2 shards):   0%|          | 0/7400720 [00:00<?, ? examples/s]"
      ]
     },
     "metadata": {},
     "output_type": "display_data"
    },
    {
     "data": {
      "application/vnd.jupyter.widget-view+json": {
       "model_id": "a9699c60b0f74023bb40ba908b6ad780",
       "version_major": 2,
       "version_minor": 0
      },
      "text/plain": [
       "Saving the dataset (0/42 shards):   0%|          | 0/32000000 [00:00<?, ? examples/s]"
      ]
     },
     "metadata": {},
     "output_type": "display_data"
    },
    {
     "data": {
      "application/vnd.jupyter.widget-view+json": {
       "model_id": "138d4a6a26e746feae1bcf629a73b00a",
       "version_major": 2,
       "version_minor": 0
      },
      "text/plain": [
       "Saving the dataset (0/4 shards):   0%|          | 0/2000000 [00:00<?, ? examples/s]"
      ]
     },
     "metadata": {},
     "output_type": "display_data"
    },
    {
     "data": {
      "application/vnd.jupyter.widget-view+json": {
       "model_id": "1f5c7e17ccc546e2a2b5f4ece33dc9af",
       "version_major": 2,
       "version_minor": 0
      },
      "text/plain": [
       "Saving the dataset (0/7 shards):   0%|          | 0/4871119 [00:00<?, ? examples/s]"
      ]
     },
     "metadata": {},
     "output_type": "display_data"
    }
   ],
   "source": [
    "tokenized_bookcorpus_dataset.save_to_disk(tokenized_bookcorpus_dataset_path)\n",
    "tokenized_wikipedia_dataset.save_to_disk(tokenized_wikipedia_dataset_path)"
   ]
  }
 ],
 "metadata": {
  "kernelspec": {
   "display_name": "Python 3 (ipykernel)",
   "language": "python",
   "name": "python3"
  },
  "language_info": {
   "codemirror_mode": {
    "name": "ipython",
    "version": 3
   },
   "file_extension": ".py",
   "mimetype": "text/x-python",
   "name": "python",
   "nbconvert_exporter": "python",
   "pygments_lexer": "ipython3",
   "version": "3.11.9"
  }
 },
 "nbformat": 4,
 "nbformat_minor": 5
}
