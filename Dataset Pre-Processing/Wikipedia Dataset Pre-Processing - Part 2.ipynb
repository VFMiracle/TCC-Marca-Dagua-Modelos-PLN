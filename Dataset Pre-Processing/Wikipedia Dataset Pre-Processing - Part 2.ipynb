{
 "cells": [
  {
   "cell_type": "markdown",
   "id": "17b5dc5d-d26c-41e1-bb13-b15ce37a1b95",
   "metadata": {},
   "source": [
    "## Esta parte cria um novo Dataset a partir das linhas salvas nos arquivos .txt da Parte 1."
   ]
  },
  {
   "cell_type": "code",
   "execution_count": 1,
   "id": "f11cdde1-80b6-49f1-843c-530ec398894d",
   "metadata": {},
   "outputs": [],
   "source": [
    "#Definição das Variáveis Básicas do Script\n",
    "\n",
    "base_file_path = 'wikipedia_lines_files\\\\wikipedia_line_file'\n",
    "dataset_folder_path = \"..\\\\custom_datasets\\\\wikipedia_lines_dataset\""
   ]
  },
  {
   "cell_type": "code",
   "execution_count": 2,
   "id": "b4ca49d3-34fb-48a5-b5de-ca94980a68c0",
   "metadata": {},
   "outputs": [],
   "source": [
    "import os\n",
    "from datasets import Dataset, DatasetDict\n",
    "from tqdm.auto import tqdm"
   ]
  },
  {
   "cell_type": "code",
   "execution_count": 3,
   "id": "55e44cd7-b936-4b21-ac6f-0977893b2ec3",
   "metadata": {},
   "outputs": [],
   "source": [
    "def wikipedia_lines_dataset_gen(shards, dataset_name):\n",
    "    print(dataset_name + \": \")\n",
    "    progress_bar = tqdm(range(len(shards)))\n",
    "    idx = 0\n",
    "    for shard in shards:\n",
    "        with open(shard, \"r\", encoding=\"utf-8\") as file:\n",
    "            for text in file:\n",
    "                yield {\"idx\": idx, \"text\": text[0:-1]}\n",
    "                idx += 1\n",
    "            progress_bar.update()"
   ]
  },
  {
   "cell_type": "code",
   "execution_count": 4,
   "id": "498e624b-304f-4c79-af78-f1b53bab4bbb",
   "metadata": {},
   "outputs": [],
   "source": [
    "def build_wikipedia_lines_dataset_dict():\n",
    "    train_shards = [base_file_path + str(i) + \".txt\" for i in range(0, 16)]\n",
    "    validation_shards = [base_file_path + str(i) + \".txt\" for i in range(16, 17)]\n",
    "    test_shards = [base_file_path + str(i) + \".txt\" for i in range(17, 20)]\n",
    "    return DatasetDict({\n",
    "        \"train\": Dataset.from_generator(wikipedia_lines_dataset_gen, gen_kwargs={\"shards\": train_shards, \"dataset_name\": \"train\"}),\n",
    "        \"validation\": Dataset.from_generator(wikipedia_lines_dataset_gen, gen_kwargs={\"shards\": validation_shards, \"dataset_name\": \"validation\"}),\n",
    "        \"test\": Dataset.from_generator(wikipedia_lines_dataset_gen, gen_kwargs={\"shards\": test_shards, \"dataset_name\": \"test\"}),\n",
    "    })"
   ]
  },
  {
   "cell_type": "code",
   "execution_count": 5,
   "id": "41373b02-0535-40d6-a6ab-aeadc2c3f7ea",
   "metadata": {},
   "outputs": [
    {
     "data": {
      "application/vnd.jupyter.widget-view+json": {
       "model_id": "0f0c7e70c1b84bca9808b1d31fd6017d",
       "version_major": 2,
       "version_minor": 0
      },
      "text/plain": [
       "Generating train split: 0 examples [00:00, ? examples/s]"
      ]
     },
     "metadata": {},
     "output_type": "display_data"
    },
    {
     "name": "stdout",
     "output_type": "stream",
     "text": [
      "train: \n"
     ]
    },
    {
     "data": {
      "application/vnd.jupyter.widget-view+json": {
       "model_id": "ab51ad0b8aff48d1a50a540b55bf78f2",
       "version_major": 2,
       "version_minor": 0
      },
      "text/plain": [
       "  0%|          | 0/16 [00:00<?, ?it/s]"
      ]
     },
     "metadata": {},
     "output_type": "display_data"
    },
    {
     "data": {
      "application/vnd.jupyter.widget-view+json": {
       "model_id": "68ef70cbb8844c21bb1c597e9701a496",
       "version_major": 2,
       "version_minor": 0
      },
      "text/plain": [
       "Loading dataset shards:   0%|          | 0/24 [00:00<?, ?it/s]"
      ]
     },
     "metadata": {},
     "output_type": "display_data"
    },
    {
     "data": {
      "application/vnd.jupyter.widget-view+json": {
       "model_id": "2c5275203ed8421b8de84ead57814a28",
       "version_major": 2,
       "version_minor": 0
      },
      "text/plain": [
       "Generating train split: 0 examples [00:00, ? examples/s]"
      ]
     },
     "metadata": {},
     "output_type": "display_data"
    },
    {
     "name": "stdout",
     "output_type": "stream",
     "text": [
      "validation: \n"
     ]
    },
    {
     "data": {
      "application/vnd.jupyter.widget-view+json": {
       "model_id": "55318c4cbadb4347a20f76b45514c965",
       "version_major": 2,
       "version_minor": 0
      },
      "text/plain": [
       "  0%|          | 0/1 [00:00<?, ?it/s]"
      ]
     },
     "metadata": {},
     "output_type": "display_data"
    },
    {
     "data": {
      "application/vnd.jupyter.widget-view+json": {
       "model_id": "c7313747835d44888189494b51339f10",
       "version_major": 2,
       "version_minor": 0
      },
      "text/plain": [
       "Generating train split: 0 examples [00:00, ? examples/s]"
      ]
     },
     "metadata": {},
     "output_type": "display_data"
    },
    {
     "name": "stdout",
     "output_type": "stream",
     "text": [
      "test: \n"
     ]
    },
    {
     "data": {
      "application/vnd.jupyter.widget-view+json": {
       "model_id": "29227c773fc7413088b9ccf23991df9b",
       "version_major": 2,
       "version_minor": 0
      },
      "text/plain": [
       "  0%|          | 0/3 [00:00<?, ?it/s]"
      ]
     },
     "metadata": {},
     "output_type": "display_data"
    }
   ],
   "source": [
    "wikipedia_lines_dataset_dict = build_wikipedia_lines_dataset_dict()"
   ]
  },
  {
   "cell_type": "code",
   "execution_count": 6,
   "id": "40683640-ad27-421f-ad96-d2650ca3c676",
   "metadata": {},
   "outputs": [
    {
     "data": {
      "application/vnd.jupyter.widget-view+json": {
       "model_id": "5368a121d9e74bf79be9b1135ce8c535",
       "version_major": 2,
       "version_minor": 0
      },
      "text/plain": [
       "Saving the dataset (0/24 shards):   0%|          | 0/32000000 [00:00<?, ? examples/s]"
      ]
     },
     "metadata": {},
     "output_type": "display_data"
    },
    {
     "data": {
      "application/vnd.jupyter.widget-view+json": {
       "model_id": "a22b11f594e14a2aaafea8b6a5154d4d",
       "version_major": 2,
       "version_minor": 0
      },
      "text/plain": [
       "Saving the dataset (0/2 shards):   0%|          | 0/2000000 [00:00<?, ? examples/s]"
      ]
     },
     "metadata": {},
     "output_type": "display_data"
    },
    {
     "data": {
      "application/vnd.jupyter.widget-view+json": {
       "model_id": "dc2314d7fc0842d9ad8c2d17d4d0de0b",
       "version_major": 2,
       "version_minor": 0
      },
      "text/plain": [
       "Saving the dataset (0/4 shards):   0%|          | 0/4871119 [00:00<?, ? examples/s]"
      ]
     },
     "metadata": {},
     "output_type": "display_data"
    }
   ],
   "source": [
    "wikipedia_lines_dataset_dict.save_to_disk(dataset_folder_path)"
   ]
  }
 ],
 "metadata": {
  "kernelspec": {
   "display_name": "Python 3 (ipykernel)",
   "language": "python",
   "name": "python3"
  },
  "language_info": {
   "codemirror_mode": {
    "name": "ipython",
    "version": 3
   },
   "file_extension": ".py",
   "mimetype": "text/x-python",
   "name": "python",
   "nbconvert_exporter": "python",
   "pygments_lexer": "ipython3",
   "version": "3.11.9"
  }
 },
 "nbformat": 4,
 "nbformat_minor": 5
}
