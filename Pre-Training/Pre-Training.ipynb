{
 "cells": [
  {
   "cell_type": "markdown",
   "id": "0de889cf-da79-49b6-a795-cbf5bc71cd8e",
   "metadata": {},
   "source": [
    "## Passo 1 - Preparar Dataset do BERT"
   ]
  },
  {
   "cell_type": "code",
   "execution_count": null,
   "id": "5f34ea8f-783d-4fbf-98b3-c7ca71436032",
   "metadata": {},
   "outputs": [],
   "source": [
    "batch_size = 16\n",
    "checkpoint = \"bert-base-cased\"\n",
    "num_training_steps = 25000\n",
    "param_save_percentage = 0.8\n",
    "param_save_starting_step = num_training_steps * param_save_percentage\n",
    "bert_model_path = \"..\\\\custom_models\\\\bert_model\"\n",
    "tokenized_bookcorpus_dataset_path = '..\\\\custom_datasets\\\\tokenized_bookcorpus_lines_dataset'\n",
    "tokenized_wikipedia_dataset_path = '..\\\\custom_datasets\\\\tokenized_wikipedia_lines_dataset'\n",
    "training_substep_marker = 2000\n",
    "training_log_file_path = \"training_log.txt\""
   ]
  },
  {
   "cell_type": "code",
   "execution_count": 3,
   "id": "ea94f37c-8fb9-42ac-9ffe-cb39fde69a42",
   "metadata": {},
   "outputs": [],
   "source": [
    "import os\n",
    "import sys\n",
    "sys.path.append(os.path.realpath(\"../\"))"
   ]
  },
  {
   "cell_type": "code",
   "execution_count": 4,
   "id": "a99d1c45-0345-42bd-864c-dfd79e627d2a",
   "metadata": {},
   "outputs": [],
   "source": [
    "import copy\n",
    "import gc\n",
    "import torch\n",
    "import ModelParamFunctionsModule as mpfm\n",
    "from datasets import load_from_disk, DatasetDict\n",
    "from transformers import BertForPreTraining, DefaultDataCollator, get_scheduler\n",
    "from torch.optim import AdamW\n",
    "from torch.utils.data import DataLoader\n",
    "from tqdm.auto import tqdm\n",
    "from TokenizedBERTDatasetModule import TokenizedBERTDataset"
   ]
  },
  {
   "cell_type": "code",
   "execution_count": 5,
   "id": "71020965-ac96-4800-b634-2b1b229d2007",
   "metadata": {},
   "outputs": [
    {
     "data": {
      "application/vnd.jupyter.widget-view+json": {
       "model_id": "7726ae5ae6ca429681a93a6e6e189eeb",
       "version_major": 2,
       "version_minor": 0
      },
      "text/plain": [
       "Loading dataset from disk:   0%|          | 0/18 [00:00<?, ?it/s]"
      ]
     },
     "metadata": {},
     "output_type": "display_data"
    },
    {
     "data": {
      "application/vnd.jupyter.widget-view+json": {
       "model_id": "3b7e86bd137f46d1b90f2fcb9be5ff81",
       "version_major": 2,
       "version_minor": 0
      },
      "text/plain": [
       "Loading dataset from disk:   0%|          | 0/42 [00:00<?, ?it/s]"
      ]
     },
     "metadata": {},
     "output_type": "display_data"
    }
   ],
   "source": [
    "#Importar os Dicionários de Datasets que compõem o Dicionário de Dataset do BERT. Especificamente, são os Dicionários personalizaados do Bookcorpus e da\n",
    "# Wikipedia.\n",
    "\n",
    "tokenized_bookcorpus_dataset_dict = load_from_disk(tokenized_bookcorpus_dataset_path)\n",
    "tokenized_wikipedia_dataset_dict = load_from_disk(tokenized_wikipedia_dataset_path)"
   ]
  },
  {
   "cell_type": "code",
   "execution_count": 11,
   "id": "96108a6e-cf15-4ddf-9d34-d24066f3ec1f",
   "metadata": {},
   "outputs": [],
   "source": [
    "#Inicializar o Dataset do BERT.\n",
    "\n",
    "tokenized_bert_dataset_dict = DatasetDict({\n",
    "    'train': TokenizedBERTDataset([tokenized_wikipedia_dataset_dict['train'], tokenized_bookcorpus_dataset_dict['train']], max_sequence_length=256,\n",
    "          sequence_length_changes=[512], sequence_length_changes_step=[2500]),\n",
    "})"
   ]
  },
  {
   "cell_type": "code",
   "execution_count": 13,
   "id": "bf80e1d2-64f4-474e-9bb5-bf366feb410f",
   "metadata": {},
   "outputs": [
    {
     "name": "stdout",
     "output_type": "stream",
     "text": [
      "<torch.utils.data.dataloader.DataLoader object at 0x000002188CE51710>\n"
     ]
    }
   ],
   "source": [
    "#Inicializar os Data Loaders. O tamanho de batch usado no treinamento original do BERT era 256, o valor 16 está sendo usado aqui para facilitar os testes.\n",
    "\n",
    "train_data_loader = DataLoader(\n",
    "    tokenized_bert_dataset_dict['train'], batch_size=batch_size, shuffle=True, collate_fn=DefaultDataCollator(), pin_memory=True, pin_memory_device=\"cuda:0\"\n",
    ")"
   ]
  },
  {
   "cell_type": "markdown",
   "id": "2b3014a5-e0e1-49a5-b15c-fffbad8efc19",
   "metadata": {},
   "source": [
    "## Passo 2 - Preparar o Modelo BERT de Pré-Treinamento"
   ]
  },
  {
   "cell_type": "code",
   "execution_count": 14,
   "id": "0f8e699a-1559-44e1-bb0e-97e5fec4c4da",
   "metadata": {},
   "outputs": [],
   "source": [
    "#Importar o Modelo de Pré-Treinamento do BERT, vindo do repositório da HuggingFace.\n",
    "\n",
    "bert_model = BertForPreTraining.from_pretrained(checkpoint)"
   ]
  },
  {
   "cell_type": "code",
   "execution_count": 16,
   "id": "51644238-da62-4eba-a0c1-b11663744d5c",
   "metadata": {},
   "outputs": [
    {
     "name": "stdout",
     "output_type": "stream",
     "text": [
      "cuda\n",
      "cuda:0\n"
     ]
    }
   ],
   "source": [
    "#Alterar o dispositivo de execução do Modelo para a GPU, caso uma esteja disponível, já que isso acelera o processo de ajuste dos pesos.\n",
    "\n",
    "device = torch.device(\"cuda\") if torch.cuda.is_available() else torch.device(\"cpu\")\n",
    "bert_model.to(device)"
   ]
  },
  {
   "cell_type": "code",
   "execution_count": null,
   "id": "70b10dc1-500e-4c71-ba0c-d76da5dc6414",
   "metadata": {},
   "outputs": [],
   "source": [
    "#Exibir os prâmetros iniciais do modelo.\n",
    "\n",
    "mpfm.print_params_details(bert_model)"
   ]
  },
  {
   "cell_type": "code",
   "execution_count": 18,
   "id": "026bc3f2-760e-4b18-a0ea-bf83a224831f",
   "metadata": {
    "scrolled": true
   },
   "outputs": [
    {
     "name": "stdout",
     "output_type": "stream",
     "text": [
      "bert.embeddings.word_embeddings.weight: mean=-0.0000; std=0.0200\n",
      "bert.embeddings.position_embeddings.weight: mean=0.0000; std=0.0200\n",
      "bert.embeddings.token_type_embeddings.weight: mean=-0.0002; std=0.0197\n",
      "bert.embeddings.LayerNorm.weight: mean=1.0000; std=0.0000\n",
      "bert.embeddings.LayerNorm.bias: mean=0.0000; std=0.0000\n",
      "bert.encoder.layer.0.attention.self.query.weight: mean=0.0000; std=0.0200\n",
      "bert.encoder.layer.0.attention.self.query.bias: mean=0.0000; std=0.0000\n",
      "bert.encoder.layer.0.attention.self.key.weight: mean=-0.0000; std=0.0200\n",
      "bert.encoder.layer.0.attention.self.key.bias: mean=0.0000; std=0.0000\n",
      "bert.encoder.layer.0.attention.self.value.weight: mean=0.0000; std=0.0200\n",
      "bert.encoder.layer.0.attention.self.value.bias: mean=0.0000; std=0.0000\n",
      "bert.encoder.layer.0.attention.output.dense.weight: mean=-0.0000; std=0.0200\n",
      "bert.encoder.layer.0.attention.output.dense.bias: mean=0.0000; std=0.0000\n",
      "bert.encoder.layer.0.attention.output.LayerNorm.weight: mean=1.0000; std=0.0000\n",
      "bert.encoder.layer.0.attention.output.LayerNorm.bias: mean=0.0000; std=0.0000\n",
      "bert.encoder.layer.0.intermediate.dense.weight: mean=0.0000; std=0.0200\n",
      "bert.encoder.layer.0.intermediate.dense.bias: mean=0.0000; std=0.0000\n",
      "bert.encoder.layer.0.output.dense.weight: mean=-0.0000; std=0.0200\n",
      "bert.encoder.layer.0.output.dense.bias: mean=0.0000; std=0.0000\n",
      "bert.encoder.layer.0.output.LayerNorm.weight: mean=1.0000; std=0.0000\n",
      "bert.encoder.layer.0.output.LayerNorm.bias: mean=0.0000; std=0.0000\n",
      "bert.encoder.layer.1.attention.self.query.weight: mean=-0.0000; std=0.0200\n",
      "bert.encoder.layer.1.attention.self.query.bias: mean=0.0000; std=0.0000\n",
      "bert.encoder.layer.1.attention.self.key.weight: mean=0.0000; std=0.0200\n",
      "bert.encoder.layer.1.attention.self.key.bias: mean=0.0000; std=0.0000\n",
      "bert.encoder.layer.1.attention.self.value.weight: mean=0.0000; std=0.0200\n",
      "bert.encoder.layer.1.attention.self.value.bias: mean=0.0000; std=0.0000\n",
      "bert.encoder.layer.1.attention.output.dense.weight: mean=0.0000; std=0.0200\n",
      "bert.encoder.layer.1.attention.output.dense.bias: mean=0.0000; std=0.0000\n",
      "bert.encoder.layer.1.attention.output.LayerNorm.weight: mean=1.0000; std=0.0000\n",
      "bert.encoder.layer.1.attention.output.LayerNorm.bias: mean=0.0000; std=0.0000\n",
      "bert.encoder.layer.1.intermediate.dense.weight: mean=0.0000; std=0.0200\n",
      "bert.encoder.layer.1.intermediate.dense.bias: mean=0.0000; std=0.0000\n",
      "bert.encoder.layer.1.output.dense.weight: mean=0.0000; std=0.0200\n",
      "bert.encoder.layer.1.output.dense.bias: mean=0.0000; std=0.0000\n",
      "bert.encoder.layer.1.output.LayerNorm.weight: mean=1.0000; std=0.0000\n",
      "bert.encoder.layer.1.output.LayerNorm.bias: mean=0.0000; std=0.0000\n",
      "bert.encoder.layer.2.attention.self.query.weight: mean=0.0000; std=0.0200\n",
      "bert.encoder.layer.2.attention.self.query.bias: mean=0.0000; std=0.0000\n",
      "bert.encoder.layer.2.attention.self.key.weight: mean=-0.0000; std=0.0200\n",
      "bert.encoder.layer.2.attention.self.key.bias: mean=0.0000; std=0.0000\n",
      "bert.encoder.layer.2.attention.self.value.weight: mean=0.0000; std=0.0200\n",
      "bert.encoder.layer.2.attention.self.value.bias: mean=0.0000; std=0.0000\n",
      "bert.encoder.layer.2.attention.output.dense.weight: mean=-0.0000; std=0.0200\n",
      "bert.encoder.layer.2.attention.output.dense.bias: mean=0.0000; std=0.0000\n",
      "bert.encoder.layer.2.attention.output.LayerNorm.weight: mean=1.0000; std=0.0000\n",
      "bert.encoder.layer.2.attention.output.LayerNorm.bias: mean=0.0000; std=0.0000\n",
      "bert.encoder.layer.2.intermediate.dense.weight: mean=-0.0000; std=0.0200\n",
      "bert.encoder.layer.2.intermediate.dense.bias: mean=0.0000; std=0.0000\n",
      "bert.encoder.layer.2.output.dense.weight: mean=0.0000; std=0.0200\n",
      "bert.encoder.layer.2.output.dense.bias: mean=0.0000; std=0.0000\n",
      "bert.encoder.layer.2.output.LayerNorm.weight: mean=1.0000; std=0.0000\n",
      "bert.encoder.layer.2.output.LayerNorm.bias: mean=0.0000; std=0.0000\n",
      "bert.encoder.layer.3.attention.self.query.weight: mean=0.0000; std=0.0200\n",
      "bert.encoder.layer.3.attention.self.query.bias: mean=0.0000; std=0.0000\n",
      "bert.encoder.layer.3.attention.self.key.weight: mean=-0.0000; std=0.0200\n",
      "bert.encoder.layer.3.attention.self.key.bias: mean=0.0000; std=0.0000\n",
      "bert.encoder.layer.3.attention.self.value.weight: mean=0.0000; std=0.0200\n",
      "bert.encoder.layer.3.attention.self.value.bias: mean=0.0000; std=0.0000\n",
      "bert.encoder.layer.3.attention.output.dense.weight: mean=0.0000; std=0.0200\n",
      "bert.encoder.layer.3.attention.output.dense.bias: mean=0.0000; std=0.0000\n",
      "bert.encoder.layer.3.attention.output.LayerNorm.weight: mean=1.0000; std=0.0000\n",
      "bert.encoder.layer.3.attention.output.LayerNorm.bias: mean=0.0000; std=0.0000\n",
      "bert.encoder.layer.3.intermediate.dense.weight: mean=-0.0000; std=0.0200\n",
      "bert.encoder.layer.3.intermediate.dense.bias: mean=0.0000; std=0.0000\n",
      "bert.encoder.layer.3.output.dense.weight: mean=-0.0000; std=0.0200\n",
      "bert.encoder.layer.3.output.dense.bias: mean=0.0000; std=0.0000\n",
      "bert.encoder.layer.3.output.LayerNorm.weight: mean=1.0000; std=0.0000\n",
      "bert.encoder.layer.3.output.LayerNorm.bias: mean=0.0000; std=0.0000\n",
      "bert.encoder.layer.4.attention.self.query.weight: mean=0.0000; std=0.0200\n",
      "bert.encoder.layer.4.attention.self.query.bias: mean=0.0000; std=0.0000\n",
      "bert.encoder.layer.4.attention.self.key.weight: mean=0.0000; std=0.0200\n",
      "bert.encoder.layer.4.attention.self.key.bias: mean=0.0000; std=0.0000\n",
      "bert.encoder.layer.4.attention.self.value.weight: mean=0.0000; std=0.0200\n",
      "bert.encoder.layer.4.attention.self.value.bias: mean=0.0000; std=0.0000\n",
      "bert.encoder.layer.4.attention.output.dense.weight: mean=-0.0000; std=0.0200\n",
      "bert.encoder.layer.4.attention.output.dense.bias: mean=0.0000; std=0.0000\n",
      "bert.encoder.layer.4.attention.output.LayerNorm.weight: mean=1.0000; std=0.0000\n",
      "bert.encoder.layer.4.attention.output.LayerNorm.bias: mean=0.0000; std=0.0000\n",
      "bert.encoder.layer.4.intermediate.dense.weight: mean=0.0000; std=0.0200\n",
      "bert.encoder.layer.4.intermediate.dense.bias: mean=0.0000; std=0.0000\n",
      "bert.encoder.layer.4.output.dense.weight: mean=-0.0000; std=0.0200\n",
      "bert.encoder.layer.4.output.dense.bias: mean=0.0000; std=0.0000\n",
      "bert.encoder.layer.4.output.LayerNorm.weight: mean=1.0000; std=0.0000\n",
      "bert.encoder.layer.4.output.LayerNorm.bias: mean=0.0000; std=0.0000\n",
      "bert.encoder.layer.5.attention.self.query.weight: mean=-0.0000; std=0.0200\n",
      "bert.encoder.layer.5.attention.self.query.bias: mean=0.0000; std=0.0000\n",
      "bert.encoder.layer.5.attention.self.key.weight: mean=-0.0000; std=0.0200\n",
      "bert.encoder.layer.5.attention.self.key.bias: mean=0.0000; std=0.0000\n",
      "bert.encoder.layer.5.attention.self.value.weight: mean=-0.0000; std=0.0200\n",
      "bert.encoder.layer.5.attention.self.value.bias: mean=0.0000; std=0.0000\n",
      "bert.encoder.layer.5.attention.output.dense.weight: mean=-0.0000; std=0.0200\n",
      "bert.encoder.layer.5.attention.output.dense.bias: mean=0.0000; std=0.0000\n",
      "bert.encoder.layer.5.attention.output.LayerNorm.weight: mean=1.0000; std=0.0000\n",
      "bert.encoder.layer.5.attention.output.LayerNorm.bias: mean=0.0000; std=0.0000\n",
      "bert.encoder.layer.5.intermediate.dense.weight: mean=0.0000; std=0.0200\n",
      "bert.encoder.layer.5.intermediate.dense.bias: mean=0.0000; std=0.0000\n",
      "bert.encoder.layer.5.output.dense.weight: mean=-0.0000; std=0.0200\n",
      "bert.encoder.layer.5.output.dense.bias: mean=0.0000; std=0.0000\n",
      "bert.encoder.layer.5.output.LayerNorm.weight: mean=1.0000; std=0.0000\n",
      "bert.encoder.layer.5.output.LayerNorm.bias: mean=0.0000; std=0.0000\n",
      "bert.encoder.layer.6.attention.self.query.weight: mean=-0.0000; std=0.0200\n",
      "bert.encoder.layer.6.attention.self.query.bias: mean=0.0000; std=0.0000\n",
      "bert.encoder.layer.6.attention.self.key.weight: mean=0.0000; std=0.0200\n",
      "bert.encoder.layer.6.attention.self.key.bias: mean=0.0000; std=0.0000\n",
      "bert.encoder.layer.6.attention.self.value.weight: mean=0.0000; std=0.0200\n",
      "bert.encoder.layer.6.attention.self.value.bias: mean=0.0000; std=0.0000\n",
      "bert.encoder.layer.6.attention.output.dense.weight: mean=-0.0000; std=0.0200\n",
      "bert.encoder.layer.6.attention.output.dense.bias: mean=0.0000; std=0.0000\n",
      "bert.encoder.layer.6.attention.output.LayerNorm.weight: mean=1.0000; std=0.0000\n",
      "bert.encoder.layer.6.attention.output.LayerNorm.bias: mean=0.0000; std=0.0000\n",
      "bert.encoder.layer.6.intermediate.dense.weight: mean=0.0000; std=0.0200\n",
      "bert.encoder.layer.6.intermediate.dense.bias: mean=0.0000; std=0.0000\n",
      "bert.encoder.layer.6.output.dense.weight: mean=0.0000; std=0.0200\n",
      "bert.encoder.layer.6.output.dense.bias: mean=0.0000; std=0.0000\n",
      "bert.encoder.layer.6.output.LayerNorm.weight: mean=1.0000; std=0.0000\n",
      "bert.encoder.layer.6.output.LayerNorm.bias: mean=0.0000; std=0.0000\n",
      "bert.encoder.layer.7.attention.self.query.weight: mean=-0.0000; std=0.0200\n",
      "bert.encoder.layer.7.attention.self.query.bias: mean=0.0000; std=0.0000\n",
      "bert.encoder.layer.7.attention.self.key.weight: mean=-0.0000; std=0.0200\n",
      "bert.encoder.layer.7.attention.self.key.bias: mean=0.0000; std=0.0000\n",
      "bert.encoder.layer.7.attention.self.value.weight: mean=-0.0000; std=0.0200\n",
      "bert.encoder.layer.7.attention.self.value.bias: mean=0.0000; std=0.0000\n",
      "bert.encoder.layer.7.attention.output.dense.weight: mean=0.0000; std=0.0200\n",
      "bert.encoder.layer.7.attention.output.dense.bias: mean=0.0000; std=0.0000\n",
      "bert.encoder.layer.7.attention.output.LayerNorm.weight: mean=1.0000; std=0.0000\n",
      "bert.encoder.layer.7.attention.output.LayerNorm.bias: mean=0.0000; std=0.0000\n",
      "bert.encoder.layer.7.intermediate.dense.weight: mean=-0.0000; std=0.0200\n",
      "bert.encoder.layer.7.intermediate.dense.bias: mean=0.0000; std=0.0000\n",
      "bert.encoder.layer.7.output.dense.weight: mean=-0.0000; std=0.0200\n",
      "bert.encoder.layer.7.output.dense.bias: mean=0.0000; std=0.0000\n",
      "bert.encoder.layer.7.output.LayerNorm.weight: mean=1.0000; std=0.0000\n",
      "bert.encoder.layer.7.output.LayerNorm.bias: mean=0.0000; std=0.0000\n",
      "bert.encoder.layer.8.attention.self.query.weight: mean=-0.0000; std=0.0200\n",
      "bert.encoder.layer.8.attention.self.query.bias: mean=0.0000; std=0.0000\n",
      "bert.encoder.layer.8.attention.self.key.weight: mean=0.0000; std=0.0200\n",
      "bert.encoder.layer.8.attention.self.key.bias: mean=0.0000; std=0.0000\n",
      "bert.encoder.layer.8.attention.self.value.weight: mean=0.0000; std=0.0200\n",
      "bert.encoder.layer.8.attention.self.value.bias: mean=0.0000; std=0.0000\n",
      "bert.encoder.layer.8.attention.output.dense.weight: mean=-0.0000; std=0.0199\n",
      "bert.encoder.layer.8.attention.output.dense.bias: mean=0.0000; std=0.0000\n",
      "bert.encoder.layer.8.attention.output.LayerNorm.weight: mean=1.0000; std=0.0000\n",
      "bert.encoder.layer.8.attention.output.LayerNorm.bias: mean=0.0000; std=0.0000\n",
      "bert.encoder.layer.8.intermediate.dense.weight: mean=-0.0000; std=0.0200\n",
      "bert.encoder.layer.8.intermediate.dense.bias: mean=0.0000; std=0.0000\n",
      "bert.encoder.layer.8.output.dense.weight: mean=-0.0000; std=0.0200\n",
      "bert.encoder.layer.8.output.dense.bias: mean=0.0000; std=0.0000\n",
      "bert.encoder.layer.8.output.LayerNorm.weight: mean=1.0000; std=0.0000\n",
      "bert.encoder.layer.8.output.LayerNorm.bias: mean=0.0000; std=0.0000\n",
      "bert.encoder.layer.9.attention.self.query.weight: mean=-0.0000; std=0.0200\n",
      "bert.encoder.layer.9.attention.self.query.bias: mean=0.0000; std=0.0000\n",
      "bert.encoder.layer.9.attention.self.key.weight: mean=-0.0000; std=0.0200\n",
      "bert.encoder.layer.9.attention.self.key.bias: mean=0.0000; std=0.0000\n",
      "bert.encoder.layer.9.attention.self.value.weight: mean=-0.0000; std=0.0200\n",
      "bert.encoder.layer.9.attention.self.value.bias: mean=0.0000; std=0.0000\n",
      "bert.encoder.layer.9.attention.output.dense.weight: mean=0.0000; std=0.0200\n",
      "bert.encoder.layer.9.attention.output.dense.bias: mean=0.0000; std=0.0000\n",
      "bert.encoder.layer.9.attention.output.LayerNorm.weight: mean=1.0000; std=0.0000\n",
      "bert.encoder.layer.9.attention.output.LayerNorm.bias: mean=0.0000; std=0.0000\n",
      "bert.encoder.layer.9.intermediate.dense.weight: mean=-0.0000; std=0.0200\n",
      "bert.encoder.layer.9.intermediate.dense.bias: mean=0.0000; std=0.0000\n",
      "bert.encoder.layer.9.output.dense.weight: mean=0.0000; std=0.0200\n",
      "bert.encoder.layer.9.output.dense.bias: mean=0.0000; std=0.0000\n",
      "bert.encoder.layer.9.output.LayerNorm.weight: mean=1.0000; std=0.0000\n",
      "bert.encoder.layer.9.output.LayerNorm.bias: mean=0.0000; std=0.0000\n",
      "bert.encoder.layer.10.attention.self.query.weight: mean=0.0001; std=0.0200\n",
      "bert.encoder.layer.10.attention.self.query.bias: mean=0.0000; std=0.0000\n",
      "bert.encoder.layer.10.attention.self.key.weight: mean=-0.0001; std=0.0200\n",
      "bert.encoder.layer.10.attention.self.key.bias: mean=0.0000; std=0.0000\n",
      "bert.encoder.layer.10.attention.self.value.weight: mean=0.0000; std=0.0200\n",
      "bert.encoder.layer.10.attention.self.value.bias: mean=0.0000; std=0.0000\n",
      "bert.encoder.layer.10.attention.output.dense.weight: mean=0.0000; std=0.0200\n",
      "bert.encoder.layer.10.attention.output.dense.bias: mean=0.0000; std=0.0000\n",
      "bert.encoder.layer.10.attention.output.LayerNorm.weight: mean=1.0000; std=0.0000\n",
      "bert.encoder.layer.10.attention.output.LayerNorm.bias: mean=0.0000; std=0.0000\n",
      "bert.encoder.layer.10.intermediate.dense.weight: mean=0.0000; std=0.0200\n",
      "bert.encoder.layer.10.intermediate.dense.bias: mean=0.0000; std=0.0000\n",
      "bert.encoder.layer.10.output.dense.weight: mean=-0.0000; std=0.0200\n",
      "bert.encoder.layer.10.output.dense.bias: mean=0.0000; std=0.0000\n",
      "bert.encoder.layer.10.output.LayerNorm.weight: mean=1.0000; std=0.0000\n",
      "bert.encoder.layer.10.output.LayerNorm.bias: mean=0.0000; std=0.0000\n",
      "bert.encoder.layer.11.attention.self.query.weight: mean=0.0000; std=0.0200\n",
      "bert.encoder.layer.11.attention.self.query.bias: mean=0.0000; std=0.0000\n",
      "bert.encoder.layer.11.attention.self.key.weight: mean=0.0000; std=0.0200\n",
      "bert.encoder.layer.11.attention.self.key.bias: mean=0.0000; std=0.0000\n",
      "bert.encoder.layer.11.attention.self.value.weight: mean=-0.0000; std=0.0200\n",
      "bert.encoder.layer.11.attention.self.value.bias: mean=0.0000; std=0.0000\n",
      "bert.encoder.layer.11.attention.output.dense.weight: mean=-0.0000; std=0.0200\n",
      "bert.encoder.layer.11.attention.output.dense.bias: mean=0.0000; std=0.0000\n",
      "bert.encoder.layer.11.attention.output.LayerNorm.weight: mean=1.0000; std=0.0000\n",
      "bert.encoder.layer.11.attention.output.LayerNorm.bias: mean=0.0000; std=0.0000\n",
      "bert.encoder.layer.11.intermediate.dense.weight: mean=-0.0000; std=0.0200\n",
      "bert.encoder.layer.11.intermediate.dense.bias: mean=0.0000; std=0.0000\n",
      "bert.encoder.layer.11.output.dense.weight: mean=0.0000; std=0.0200\n",
      "bert.encoder.layer.11.output.dense.bias: mean=0.0000; std=0.0000\n",
      "bert.encoder.layer.11.output.LayerNorm.weight: mean=1.0000; std=0.0000\n",
      "bert.encoder.layer.11.output.LayerNorm.bias: mean=0.0000; std=0.0000\n",
      "bert.pooler.dense.weight: mean=-0.0000; std=0.0200\n",
      "bert.pooler.dense.bias: mean=0.0000; std=0.0000\n",
      "cls.predictions.bias: mean=0.0000; std=0.0000\n",
      "cls.predictions.transform.dense.weight: mean=0.0000; std=0.0200\n",
      "cls.predictions.transform.dense.bias: mean=0.0000; std=0.0000\n",
      "cls.predictions.transform.LayerNorm.weight: mean=1.0000; std=0.0000\n",
      "cls.predictions.transform.LayerNorm.bias: mean=0.0000; std=0.0000\n",
      "cls.seq_relationship.weight: mean=-0.0004; std=0.0195\n",
      "cls.seq_relationship.bias: mean=0.0000; std=0.0000\n"
     ]
    }
   ],
   "source": [
    "#Reiniciar os pesos do modelo, para que o pré-treinamento não seja influenciado pelos valores iniciais do Hugging Face.\n",
    "\n",
    "bert_model.apply(mpfm.reinitialize_weights)\n",
    "mpfm.print_params_details(bert_model)"
   ]
  },
  {
   "cell_type": "markdown",
   "id": "1496c479-fc79-4a83-a4b2-ef4d6439d029",
   "metadata": {},
   "source": [
    "## Passo 3 - Preparar Ferramentas e Parâmetros de Treinamento"
   ]
  },
  {
   "cell_type": "code",
   "execution_count": 19,
   "id": "29c42378-f459-4a3e-a8ed-ddfef1318ae3",
   "metadata": {},
   "outputs": [
    {
     "name": "stdout",
     "output_type": "stream",
     "text": [
      "AdamW (\n",
      "Parameter Group 0\n",
      "    amsgrad: False\n",
      "    betas: (0.9, 0.999)\n",
      "    capturable: False\n",
      "    differentiable: False\n",
      "    eps: 1e-08\n",
      "    foreach: None\n",
      "    fused: None\n",
      "    initial_lr: 0.0001\n",
      "    lr: 0.0\n",
      "    maximize: False\n",
      "    weight_decay: 0.01\n",
      ")\n",
      "<torch.optim.lr_scheduler.LambdaLR object at 0x000002211D829790>\n"
     ]
    }
   ],
   "source": [
    "#Preparar as ferramentas de treinamento e determinar o número de passos de treinamento.\n",
    "\n",
    "adam_optimizer = AdamW(bert_model.parameters(), lr=0.0001, betas=(0.9, 0.999), weight_decay=0.01)\n",
    "lr_scheduler = get_scheduler(\"linear\", adam_optimizer, num_warmup_steps=10000, num_training_steps=num_training_steps)"
   ]
  },
  {
   "cell_type": "markdown",
   "id": "c389d225-b354-4f5e-98a9-05ab63dab871",
   "metadata": {},
   "source": [
    "## Passo 4 - Realizar Treinamento"
   ]
  },
  {
   "cell_type": "code",
   "execution_count": 20,
   "id": "376da549-cc56-4922-b486-3b6221fc6288",
   "metadata": {},
   "outputs": [],
   "source": [
    "gc.collect()\n",
    "torch.cuda.empty_cache()"
   ]
  },
  {
   "cell_type": "code",
   "execution_count": 21,
   "id": "73bcd6ca-e534-46d6-8a26-6c92e1e3aa9c",
   "metadata": {},
   "outputs": [],
   "source": [
    "#Definir a função de treinamento.\n",
    "\n",
    "def treinar(bert_model, training_progress_bar):\n",
    "    current_training_step = 0\n",
    "    current_training_substep = 0\n",
    "    loss = 0\n",
    "    saved_model = None\n",
    "    saved_model_loss = None\n",
    "    training_log = open(training_log_file_path, mode=\"a\", encoding=\"utf-8\")\n",
    "    bert_model.train()\n",
    "    while current_training_step < num_training_steps:\n",
    "        for batch in train_data_loader:\n",
    "            batch = {k: v.to(device) for k, v in batch.items()}\n",
    "            outputs = bert_model(**batch)\n",
    "            loss = outputs.loss\n",
    "            loss.backward()\n",
    "\n",
    "            adam_optimizer.step()\n",
    "            lr_scheduler.step()\n",
    "            adam_optimizer.zero_grad()\n",
    "            training_progress_bar.update(1)\n",
    "\n",
    "            gc.collect()\n",
    "            torch.cuda.empty_cache()\n",
    "            \n",
    "            current_training_step += 1\n",
    "            current_training_substep += 1\n",
    "\n",
    "            if(current_training_step > param_save_starting_step):\n",
    "                if(saved_model_loss is None or saved_model_loss > loss):\n",
    "                    training_log.write(f\"Updating Saved Loss: Old Value: {saved_model_loss}; New Value: {loss}.\")\n",
    "                    saved_model = copy.deepcopy(bert_model)\n",
    "                    saved_model_loss = loss\n",
    "            \n",
    "            if(current_training_substep >= training_substep_marker):\n",
    "                training_log.write(str(current_training_step) + \": \" + str(loss) + \"\\n\")\n",
    "                current_training_substep = 0\n",
    "            if(current_training_step >= num_training_steps):\n",
    "                break\n",
    "    if(loss > saved_model_loss):\n",
    "        training_log.write(\"The last Saved Model has a smaller Loss (\" + str(saved_model_loss) + \" < \" + str(loss) +\n",
    "                           \"). Setting the Final Model as the Saved Model...\")\n",
    "        bert_model = saved_model\n",
    "    training_log.close()"
   ]
  },
  {
   "cell_type": "code",
   "execution_count": 22,
   "id": "93e78346-1a0e-443b-98e6-6dd6034e9c4c",
   "metadata": {},
   "outputs": [
    {
     "data": {
      "application/vnd.jupyter.widget-view+json": {
       "model_id": "e5605734755d43738383532a8d0d4611",
       "version_major": 2,
       "version_minor": 0
      },
      "text/plain": [
       "  0%|          | 0/25000 [00:00<?, ?it/s]"
      ]
     },
     "metadata": {},
     "output_type": "display_data"
    },
    {
     "ename": "OutOfMemoryError",
     "evalue": "CUDA out of memory. Tried to allocate 908.00 MiB. GPU 0 has a total capacity of 4.00 GiB of which 0 bytes is free. Of the allocated memory 10.24 GiB is allocated by PyTorch, and 37.90 MiB is reserved by PyTorch but unallocated. If reserved but unallocated memory is large try setting PYTORCH_CUDA_ALLOC_CONF=expandable_segments:True to avoid fragmentation.  See documentation for Memory Management  (https://pytorch.org/docs/stable/notes/cuda.html#environment-variables)",
     "output_type": "error",
     "traceback": [
      "\u001b[1;31m---------------------------------------------------------------------------\u001b[0m",
      "\u001b[1;31mOutOfMemoryError\u001b[0m                          Traceback (most recent call last)",
      "Cell \u001b[1;32mIn[22], line 3\u001b[0m\n\u001b[0;32m      1\u001b[0m \u001b[38;5;66;03m# Realizar o treinamento.\u001b[39;00m\n\u001b[1;32m----> 3\u001b[0m \u001b[43mtreinar\u001b[49m\u001b[43m(\u001b[49m\u001b[43mbert_model\u001b[49m\u001b[43m,\u001b[49m\u001b[43m \u001b[49m\u001b[43mtqdm\u001b[49m\u001b[43m(\u001b[49m\u001b[38;5;28;43mrange\u001b[39;49m\u001b[43m(\u001b[49m\u001b[43mnum_training_steps\u001b[49m\u001b[43m)\u001b[49m\u001b[43m)\u001b[49m\u001b[43m)\u001b[49m\n",
      "Cell \u001b[1;32mIn[21], line 15\u001b[0m, in \u001b[0;36mtreinar\u001b[1;34m(bert_model, training_progress_bar)\u001b[0m\n\u001b[0;32m     13\u001b[0m \u001b[38;5;28;01mfor\u001b[39;00m batch \u001b[38;5;129;01min\u001b[39;00m train_data_loader:\n\u001b[0;32m     14\u001b[0m     batch \u001b[38;5;241m=\u001b[39m {k: v\u001b[38;5;241m.\u001b[39mto(device) \u001b[38;5;28;01mfor\u001b[39;00m k, v \u001b[38;5;129;01min\u001b[39;00m batch\u001b[38;5;241m.\u001b[39mitems()}\n\u001b[1;32m---> 15\u001b[0m     outputs \u001b[38;5;241m=\u001b[39m \u001b[43mbert_model\u001b[49m\u001b[43m(\u001b[49m\u001b[38;5;241;43m*\u001b[39;49m\u001b[38;5;241;43m*\u001b[39;49m\u001b[43mbatch\u001b[49m\u001b[43m)\u001b[49m\n\u001b[0;32m     16\u001b[0m     loss \u001b[38;5;241m=\u001b[39m outputs\u001b[38;5;241m.\u001b[39mloss\n\u001b[0;32m     17\u001b[0m     loss\u001b[38;5;241m.\u001b[39mbackward()\n",
      "File \u001b[1;32m~\\AppData\\Local\\Programs\\Python\\Python311\\Lib\\site-packages\\torch\\nn\\modules\\module.py:1511\u001b[0m, in \u001b[0;36mModule._wrapped_call_impl\u001b[1;34m(self, *args, **kwargs)\u001b[0m\n\u001b[0;32m   1509\u001b[0m     \u001b[38;5;28;01mreturn\u001b[39;00m \u001b[38;5;28mself\u001b[39m\u001b[38;5;241m.\u001b[39m_compiled_call_impl(\u001b[38;5;241m*\u001b[39margs, \u001b[38;5;241m*\u001b[39m\u001b[38;5;241m*\u001b[39mkwargs)  \u001b[38;5;66;03m# type: ignore[misc]\u001b[39;00m\n\u001b[0;32m   1510\u001b[0m \u001b[38;5;28;01melse\u001b[39;00m:\n\u001b[1;32m-> 1511\u001b[0m     \u001b[38;5;28;01mreturn\u001b[39;00m \u001b[38;5;28;43mself\u001b[39;49m\u001b[38;5;241;43m.\u001b[39;49m\u001b[43m_call_impl\u001b[49m\u001b[43m(\u001b[49m\u001b[38;5;241;43m*\u001b[39;49m\u001b[43margs\u001b[49m\u001b[43m,\u001b[49m\u001b[43m \u001b[49m\u001b[38;5;241;43m*\u001b[39;49m\u001b[38;5;241;43m*\u001b[39;49m\u001b[43mkwargs\u001b[49m\u001b[43m)\u001b[49m\n",
      "File \u001b[1;32m~\\AppData\\Local\\Programs\\Python\\Python311\\Lib\\site-packages\\torch\\nn\\modules\\module.py:1520\u001b[0m, in \u001b[0;36mModule._call_impl\u001b[1;34m(self, *args, **kwargs)\u001b[0m\n\u001b[0;32m   1515\u001b[0m \u001b[38;5;66;03m# If we don't have any hooks, we want to skip the rest of the logic in\u001b[39;00m\n\u001b[0;32m   1516\u001b[0m \u001b[38;5;66;03m# this function, and just call forward.\u001b[39;00m\n\u001b[0;32m   1517\u001b[0m \u001b[38;5;28;01mif\u001b[39;00m \u001b[38;5;129;01mnot\u001b[39;00m (\u001b[38;5;28mself\u001b[39m\u001b[38;5;241m.\u001b[39m_backward_hooks \u001b[38;5;129;01mor\u001b[39;00m \u001b[38;5;28mself\u001b[39m\u001b[38;5;241m.\u001b[39m_backward_pre_hooks \u001b[38;5;129;01mor\u001b[39;00m \u001b[38;5;28mself\u001b[39m\u001b[38;5;241m.\u001b[39m_forward_hooks \u001b[38;5;129;01mor\u001b[39;00m \u001b[38;5;28mself\u001b[39m\u001b[38;5;241m.\u001b[39m_forward_pre_hooks\n\u001b[0;32m   1518\u001b[0m         \u001b[38;5;129;01mor\u001b[39;00m _global_backward_pre_hooks \u001b[38;5;129;01mor\u001b[39;00m _global_backward_hooks\n\u001b[0;32m   1519\u001b[0m         \u001b[38;5;129;01mor\u001b[39;00m _global_forward_hooks \u001b[38;5;129;01mor\u001b[39;00m _global_forward_pre_hooks):\n\u001b[1;32m-> 1520\u001b[0m     \u001b[38;5;28;01mreturn\u001b[39;00m \u001b[43mforward_call\u001b[49m\u001b[43m(\u001b[49m\u001b[38;5;241;43m*\u001b[39;49m\u001b[43margs\u001b[49m\u001b[43m,\u001b[49m\u001b[43m \u001b[49m\u001b[38;5;241;43m*\u001b[39;49m\u001b[38;5;241;43m*\u001b[39;49m\u001b[43mkwargs\u001b[49m\u001b[43m)\u001b[49m\n\u001b[0;32m   1522\u001b[0m \u001b[38;5;28;01mtry\u001b[39;00m:\n\u001b[0;32m   1523\u001b[0m     result \u001b[38;5;241m=\u001b[39m \u001b[38;5;28;01mNone\u001b[39;00m\n",
      "File \u001b[1;32m~\\AppData\\Local\\Programs\\Python\\Python311\\Lib\\site-packages\\transformers\\models\\bert\\modeling_bert.py:1129\u001b[0m, in \u001b[0;36mBertForPreTraining.forward\u001b[1;34m(self, input_ids, attention_mask, token_type_ids, position_ids, head_mask, inputs_embeds, labels, next_sentence_label, output_attentions, output_hidden_states, return_dict)\u001b[0m\n\u001b[0;32m   1116\u001b[0m outputs \u001b[38;5;241m=\u001b[39m \u001b[38;5;28mself\u001b[39m\u001b[38;5;241m.\u001b[39mbert(\n\u001b[0;32m   1117\u001b[0m     input_ids,\n\u001b[0;32m   1118\u001b[0m     attention_mask\u001b[38;5;241m=\u001b[39mattention_mask,\n\u001b[1;32m   (...)\u001b[0m\n\u001b[0;32m   1125\u001b[0m     return_dict\u001b[38;5;241m=\u001b[39mreturn_dict,\n\u001b[0;32m   1126\u001b[0m )\n\u001b[0;32m   1128\u001b[0m sequence_output, pooled_output \u001b[38;5;241m=\u001b[39m outputs[:\u001b[38;5;241m2\u001b[39m]\n\u001b[1;32m-> 1129\u001b[0m prediction_scores, seq_relationship_score \u001b[38;5;241m=\u001b[39m \u001b[38;5;28;43mself\u001b[39;49m\u001b[38;5;241;43m.\u001b[39;49m\u001b[43mcls\u001b[49m\u001b[43m(\u001b[49m\u001b[43msequence_output\u001b[49m\u001b[43m,\u001b[49m\u001b[43m \u001b[49m\u001b[43mpooled_output\u001b[49m\u001b[43m)\u001b[49m\n\u001b[0;32m   1131\u001b[0m total_loss \u001b[38;5;241m=\u001b[39m \u001b[38;5;28;01mNone\u001b[39;00m\n\u001b[0;32m   1132\u001b[0m \u001b[38;5;28;01mif\u001b[39;00m labels \u001b[38;5;129;01mis\u001b[39;00m \u001b[38;5;129;01mnot\u001b[39;00m \u001b[38;5;28;01mNone\u001b[39;00m \u001b[38;5;129;01mand\u001b[39;00m next_sentence_label \u001b[38;5;129;01mis\u001b[39;00m \u001b[38;5;129;01mnot\u001b[39;00m \u001b[38;5;28;01mNone\u001b[39;00m:\n",
      "File \u001b[1;32m~\\AppData\\Local\\Programs\\Python\\Python311\\Lib\\site-packages\\torch\\nn\\modules\\module.py:1511\u001b[0m, in \u001b[0;36mModule._wrapped_call_impl\u001b[1;34m(self, *args, **kwargs)\u001b[0m\n\u001b[0;32m   1509\u001b[0m     \u001b[38;5;28;01mreturn\u001b[39;00m \u001b[38;5;28mself\u001b[39m\u001b[38;5;241m.\u001b[39m_compiled_call_impl(\u001b[38;5;241m*\u001b[39margs, \u001b[38;5;241m*\u001b[39m\u001b[38;5;241m*\u001b[39mkwargs)  \u001b[38;5;66;03m# type: ignore[misc]\u001b[39;00m\n\u001b[0;32m   1510\u001b[0m \u001b[38;5;28;01melse\u001b[39;00m:\n\u001b[1;32m-> 1511\u001b[0m     \u001b[38;5;28;01mreturn\u001b[39;00m \u001b[38;5;28;43mself\u001b[39;49m\u001b[38;5;241;43m.\u001b[39;49m\u001b[43m_call_impl\u001b[49m\u001b[43m(\u001b[49m\u001b[38;5;241;43m*\u001b[39;49m\u001b[43margs\u001b[49m\u001b[43m,\u001b[49m\u001b[43m \u001b[49m\u001b[38;5;241;43m*\u001b[39;49m\u001b[38;5;241;43m*\u001b[39;49m\u001b[43mkwargs\u001b[49m\u001b[43m)\u001b[49m\n",
      "File \u001b[1;32m~\\AppData\\Local\\Programs\\Python\\Python311\\Lib\\site-packages\\torch\\nn\\modules\\module.py:1520\u001b[0m, in \u001b[0;36mModule._call_impl\u001b[1;34m(self, *args, **kwargs)\u001b[0m\n\u001b[0;32m   1515\u001b[0m \u001b[38;5;66;03m# If we don't have any hooks, we want to skip the rest of the logic in\u001b[39;00m\n\u001b[0;32m   1516\u001b[0m \u001b[38;5;66;03m# this function, and just call forward.\u001b[39;00m\n\u001b[0;32m   1517\u001b[0m \u001b[38;5;28;01mif\u001b[39;00m \u001b[38;5;129;01mnot\u001b[39;00m (\u001b[38;5;28mself\u001b[39m\u001b[38;5;241m.\u001b[39m_backward_hooks \u001b[38;5;129;01mor\u001b[39;00m \u001b[38;5;28mself\u001b[39m\u001b[38;5;241m.\u001b[39m_backward_pre_hooks \u001b[38;5;129;01mor\u001b[39;00m \u001b[38;5;28mself\u001b[39m\u001b[38;5;241m.\u001b[39m_forward_hooks \u001b[38;5;129;01mor\u001b[39;00m \u001b[38;5;28mself\u001b[39m\u001b[38;5;241m.\u001b[39m_forward_pre_hooks\n\u001b[0;32m   1518\u001b[0m         \u001b[38;5;129;01mor\u001b[39;00m _global_backward_pre_hooks \u001b[38;5;129;01mor\u001b[39;00m _global_backward_hooks\n\u001b[0;32m   1519\u001b[0m         \u001b[38;5;129;01mor\u001b[39;00m _global_forward_hooks \u001b[38;5;129;01mor\u001b[39;00m _global_forward_pre_hooks):\n\u001b[1;32m-> 1520\u001b[0m     \u001b[38;5;28;01mreturn\u001b[39;00m \u001b[43mforward_call\u001b[49m\u001b[43m(\u001b[49m\u001b[38;5;241;43m*\u001b[39;49m\u001b[43margs\u001b[49m\u001b[43m,\u001b[49m\u001b[43m \u001b[49m\u001b[38;5;241;43m*\u001b[39;49m\u001b[38;5;241;43m*\u001b[39;49m\u001b[43mkwargs\u001b[49m\u001b[43m)\u001b[49m\n\u001b[0;32m   1522\u001b[0m \u001b[38;5;28;01mtry\u001b[39;00m:\n\u001b[0;32m   1523\u001b[0m     result \u001b[38;5;241m=\u001b[39m \u001b[38;5;28;01mNone\u001b[39;00m\n",
      "File \u001b[1;32m~\\AppData\\Local\\Programs\\Python\\Python311\\Lib\\site-packages\\transformers\\models\\bert\\modeling_bert.py:728\u001b[0m, in \u001b[0;36mBertPreTrainingHeads.forward\u001b[1;34m(self, sequence_output, pooled_output)\u001b[0m\n\u001b[0;32m    727\u001b[0m \u001b[38;5;28;01mdef\u001b[39;00m \u001b[38;5;21mforward\u001b[39m(\u001b[38;5;28mself\u001b[39m, sequence_output, pooled_output):\n\u001b[1;32m--> 728\u001b[0m     prediction_scores \u001b[38;5;241m=\u001b[39m \u001b[38;5;28;43mself\u001b[39;49m\u001b[38;5;241;43m.\u001b[39;49m\u001b[43mpredictions\u001b[49m\u001b[43m(\u001b[49m\u001b[43msequence_output\u001b[49m\u001b[43m)\u001b[49m\n\u001b[0;32m    729\u001b[0m     seq_relationship_score \u001b[38;5;241m=\u001b[39m \u001b[38;5;28mself\u001b[39m\u001b[38;5;241m.\u001b[39mseq_relationship(pooled_output)\n\u001b[0;32m    730\u001b[0m     \u001b[38;5;28;01mreturn\u001b[39;00m prediction_scores, seq_relationship_score\n",
      "File \u001b[1;32m~\\AppData\\Local\\Programs\\Python\\Python311\\Lib\\site-packages\\torch\\nn\\modules\\module.py:1511\u001b[0m, in \u001b[0;36mModule._wrapped_call_impl\u001b[1;34m(self, *args, **kwargs)\u001b[0m\n\u001b[0;32m   1509\u001b[0m     \u001b[38;5;28;01mreturn\u001b[39;00m \u001b[38;5;28mself\u001b[39m\u001b[38;5;241m.\u001b[39m_compiled_call_impl(\u001b[38;5;241m*\u001b[39margs, \u001b[38;5;241m*\u001b[39m\u001b[38;5;241m*\u001b[39mkwargs)  \u001b[38;5;66;03m# type: ignore[misc]\u001b[39;00m\n\u001b[0;32m   1510\u001b[0m \u001b[38;5;28;01melse\u001b[39;00m:\n\u001b[1;32m-> 1511\u001b[0m     \u001b[38;5;28;01mreturn\u001b[39;00m \u001b[38;5;28;43mself\u001b[39;49m\u001b[38;5;241;43m.\u001b[39;49m\u001b[43m_call_impl\u001b[49m\u001b[43m(\u001b[49m\u001b[38;5;241;43m*\u001b[39;49m\u001b[43margs\u001b[49m\u001b[43m,\u001b[49m\u001b[43m \u001b[49m\u001b[38;5;241;43m*\u001b[39;49m\u001b[38;5;241;43m*\u001b[39;49m\u001b[43mkwargs\u001b[49m\u001b[43m)\u001b[49m\n",
      "File \u001b[1;32m~\\AppData\\Local\\Programs\\Python\\Python311\\Lib\\site-packages\\torch\\nn\\modules\\module.py:1520\u001b[0m, in \u001b[0;36mModule._call_impl\u001b[1;34m(self, *args, **kwargs)\u001b[0m\n\u001b[0;32m   1515\u001b[0m \u001b[38;5;66;03m# If we don't have any hooks, we want to skip the rest of the logic in\u001b[39;00m\n\u001b[0;32m   1516\u001b[0m \u001b[38;5;66;03m# this function, and just call forward.\u001b[39;00m\n\u001b[0;32m   1517\u001b[0m \u001b[38;5;28;01mif\u001b[39;00m \u001b[38;5;129;01mnot\u001b[39;00m (\u001b[38;5;28mself\u001b[39m\u001b[38;5;241m.\u001b[39m_backward_hooks \u001b[38;5;129;01mor\u001b[39;00m \u001b[38;5;28mself\u001b[39m\u001b[38;5;241m.\u001b[39m_backward_pre_hooks \u001b[38;5;129;01mor\u001b[39;00m \u001b[38;5;28mself\u001b[39m\u001b[38;5;241m.\u001b[39m_forward_hooks \u001b[38;5;129;01mor\u001b[39;00m \u001b[38;5;28mself\u001b[39m\u001b[38;5;241m.\u001b[39m_forward_pre_hooks\n\u001b[0;32m   1518\u001b[0m         \u001b[38;5;129;01mor\u001b[39;00m _global_backward_pre_hooks \u001b[38;5;129;01mor\u001b[39;00m _global_backward_hooks\n\u001b[0;32m   1519\u001b[0m         \u001b[38;5;129;01mor\u001b[39;00m _global_forward_hooks \u001b[38;5;129;01mor\u001b[39;00m _global_forward_pre_hooks):\n\u001b[1;32m-> 1520\u001b[0m     \u001b[38;5;28;01mreturn\u001b[39;00m \u001b[43mforward_call\u001b[49m\u001b[43m(\u001b[49m\u001b[38;5;241;43m*\u001b[39;49m\u001b[43margs\u001b[49m\u001b[43m,\u001b[49m\u001b[43m \u001b[49m\u001b[38;5;241;43m*\u001b[39;49m\u001b[38;5;241;43m*\u001b[39;49m\u001b[43mkwargs\u001b[49m\u001b[43m)\u001b[49m\n\u001b[0;32m   1522\u001b[0m \u001b[38;5;28;01mtry\u001b[39;00m:\n\u001b[0;32m   1523\u001b[0m     result \u001b[38;5;241m=\u001b[39m \u001b[38;5;28;01mNone\u001b[39;00m\n",
      "File \u001b[1;32m~\\AppData\\Local\\Programs\\Python\\Python311\\Lib\\site-packages\\transformers\\models\\bert\\modeling_bert.py:697\u001b[0m, in \u001b[0;36mBertLMPredictionHead.forward\u001b[1;34m(self, hidden_states)\u001b[0m\n\u001b[0;32m    695\u001b[0m \u001b[38;5;28;01mdef\u001b[39;00m \u001b[38;5;21mforward\u001b[39m(\u001b[38;5;28mself\u001b[39m, hidden_states):\n\u001b[0;32m    696\u001b[0m     hidden_states \u001b[38;5;241m=\u001b[39m \u001b[38;5;28mself\u001b[39m\u001b[38;5;241m.\u001b[39mtransform(hidden_states)\n\u001b[1;32m--> 697\u001b[0m     hidden_states \u001b[38;5;241m=\u001b[39m \u001b[38;5;28;43mself\u001b[39;49m\u001b[38;5;241;43m.\u001b[39;49m\u001b[43mdecoder\u001b[49m\u001b[43m(\u001b[49m\u001b[43mhidden_states\u001b[49m\u001b[43m)\u001b[49m\n\u001b[0;32m    698\u001b[0m     \u001b[38;5;28;01mreturn\u001b[39;00m hidden_states\n",
      "File \u001b[1;32m~\\AppData\\Local\\Programs\\Python\\Python311\\Lib\\site-packages\\torch\\nn\\modules\\module.py:1511\u001b[0m, in \u001b[0;36mModule._wrapped_call_impl\u001b[1;34m(self, *args, **kwargs)\u001b[0m\n\u001b[0;32m   1509\u001b[0m     \u001b[38;5;28;01mreturn\u001b[39;00m \u001b[38;5;28mself\u001b[39m\u001b[38;5;241m.\u001b[39m_compiled_call_impl(\u001b[38;5;241m*\u001b[39margs, \u001b[38;5;241m*\u001b[39m\u001b[38;5;241m*\u001b[39mkwargs)  \u001b[38;5;66;03m# type: ignore[misc]\u001b[39;00m\n\u001b[0;32m   1510\u001b[0m \u001b[38;5;28;01melse\u001b[39;00m:\n\u001b[1;32m-> 1511\u001b[0m     \u001b[38;5;28;01mreturn\u001b[39;00m \u001b[38;5;28;43mself\u001b[39;49m\u001b[38;5;241;43m.\u001b[39;49m\u001b[43m_call_impl\u001b[49m\u001b[43m(\u001b[49m\u001b[38;5;241;43m*\u001b[39;49m\u001b[43margs\u001b[49m\u001b[43m,\u001b[49m\u001b[43m \u001b[49m\u001b[38;5;241;43m*\u001b[39;49m\u001b[38;5;241;43m*\u001b[39;49m\u001b[43mkwargs\u001b[49m\u001b[43m)\u001b[49m\n",
      "File \u001b[1;32m~\\AppData\\Local\\Programs\\Python\\Python311\\Lib\\site-packages\\torch\\nn\\modules\\module.py:1520\u001b[0m, in \u001b[0;36mModule._call_impl\u001b[1;34m(self, *args, **kwargs)\u001b[0m\n\u001b[0;32m   1515\u001b[0m \u001b[38;5;66;03m# If we don't have any hooks, we want to skip the rest of the logic in\u001b[39;00m\n\u001b[0;32m   1516\u001b[0m \u001b[38;5;66;03m# this function, and just call forward.\u001b[39;00m\n\u001b[0;32m   1517\u001b[0m \u001b[38;5;28;01mif\u001b[39;00m \u001b[38;5;129;01mnot\u001b[39;00m (\u001b[38;5;28mself\u001b[39m\u001b[38;5;241m.\u001b[39m_backward_hooks \u001b[38;5;129;01mor\u001b[39;00m \u001b[38;5;28mself\u001b[39m\u001b[38;5;241m.\u001b[39m_backward_pre_hooks \u001b[38;5;129;01mor\u001b[39;00m \u001b[38;5;28mself\u001b[39m\u001b[38;5;241m.\u001b[39m_forward_hooks \u001b[38;5;129;01mor\u001b[39;00m \u001b[38;5;28mself\u001b[39m\u001b[38;5;241m.\u001b[39m_forward_pre_hooks\n\u001b[0;32m   1518\u001b[0m         \u001b[38;5;129;01mor\u001b[39;00m _global_backward_pre_hooks \u001b[38;5;129;01mor\u001b[39;00m _global_backward_hooks\n\u001b[0;32m   1519\u001b[0m         \u001b[38;5;129;01mor\u001b[39;00m _global_forward_hooks \u001b[38;5;129;01mor\u001b[39;00m _global_forward_pre_hooks):\n\u001b[1;32m-> 1520\u001b[0m     \u001b[38;5;28;01mreturn\u001b[39;00m \u001b[43mforward_call\u001b[49m\u001b[43m(\u001b[49m\u001b[38;5;241;43m*\u001b[39;49m\u001b[43margs\u001b[49m\u001b[43m,\u001b[49m\u001b[43m \u001b[49m\u001b[38;5;241;43m*\u001b[39;49m\u001b[38;5;241;43m*\u001b[39;49m\u001b[43mkwargs\u001b[49m\u001b[43m)\u001b[49m\n\u001b[0;32m   1522\u001b[0m \u001b[38;5;28;01mtry\u001b[39;00m:\n\u001b[0;32m   1523\u001b[0m     result \u001b[38;5;241m=\u001b[39m \u001b[38;5;28;01mNone\u001b[39;00m\n",
      "File \u001b[1;32m~\\AppData\\Local\\Programs\\Python\\Python311\\Lib\\site-packages\\torch\\nn\\modules\\linear.py:116\u001b[0m, in \u001b[0;36mLinear.forward\u001b[1;34m(self, input)\u001b[0m\n\u001b[0;32m    115\u001b[0m \u001b[38;5;28;01mdef\u001b[39;00m \u001b[38;5;21mforward\u001b[39m(\u001b[38;5;28mself\u001b[39m, \u001b[38;5;28minput\u001b[39m: Tensor) \u001b[38;5;241m-\u001b[39m\u001b[38;5;241m>\u001b[39m Tensor:\n\u001b[1;32m--> 116\u001b[0m     \u001b[38;5;28;01mreturn\u001b[39;00m \u001b[43mF\u001b[49m\u001b[38;5;241;43m.\u001b[39;49m\u001b[43mlinear\u001b[49m\u001b[43m(\u001b[49m\u001b[38;5;28;43minput\u001b[39;49m\u001b[43m,\u001b[49m\u001b[43m \u001b[49m\u001b[38;5;28;43mself\u001b[39;49m\u001b[38;5;241;43m.\u001b[39;49m\u001b[43mweight\u001b[49m\u001b[43m,\u001b[49m\u001b[43m \u001b[49m\u001b[38;5;28;43mself\u001b[39;49m\u001b[38;5;241;43m.\u001b[39;49m\u001b[43mbias\u001b[49m\u001b[43m)\u001b[49m\n",
      "\u001b[1;31mOutOfMemoryError\u001b[0m: CUDA out of memory. Tried to allocate 908.00 MiB. GPU 0 has a total capacity of 4.00 GiB of which 0 bytes is free. Of the allocated memory 10.24 GiB is allocated by PyTorch, and 37.90 MiB is reserved by PyTorch but unallocated. If reserved but unallocated memory is large try setting PYTORCH_CUDA_ALLOC_CONF=expandable_segments:True to avoid fragmentation.  See documentation for Memory Management  (https://pytorch.org/docs/stable/notes/cuda.html#environment-variables)"
     ]
    }
   ],
   "source": [
    "# Realizar o treinamento.\n",
    "\n",
    "treinar(bert_model, tqdm(range(num_training_steps)))"
   ]
  },
  {
   "cell_type": "markdown",
   "id": "f7790a0d-faab-427a-86c5-b8e84a4ec48b",
   "metadata": {},
   "source": [
    "## Passo 5 - Salvar o Modelo Localmente"
   ]
  },
  {
   "cell_type": "code",
   "execution_count": 19,
   "id": "ed1e33f7-8e48-4de9-a3f2-c089ab3bed28",
   "metadata": {},
   "outputs": [],
   "source": [
    "#Salvar o modelo.\n",
    "\n",
    "bert_model.save_pretrained(bert_model_path)"
   ]
  }
 ],
 "metadata": {
  "kernelspec": {
   "display_name": "Python 3 (ipykernel)",
   "language": "python",
   "name": "python3"
  },
  "language_info": {
   "codemirror_mode": {
    "name": "ipython",
    "version": 3
   },
   "file_extension": ".py",
   "mimetype": "text/x-python",
   "name": "python",
   "nbconvert_exporter": "python",
   "pygments_lexer": "ipython3",
   "version": "3.11.9"
  }
 },
 "nbformat": 4,
 "nbformat_minor": 5
}
